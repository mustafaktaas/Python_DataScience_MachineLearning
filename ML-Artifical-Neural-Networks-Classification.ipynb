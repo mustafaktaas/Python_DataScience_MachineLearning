{
 "cells": [
  {
   "cell_type": "markdown",
   "id": "2c991174-0639-4610-820c-e7e836eacffc",
   "metadata": {},
   "source": [
    "# Artifical Neural Networks (Classification)"
   ]
  },
  {
   "cell_type": "code",
   "execution_count": null,
   "id": "ebbd7439-f270-4e45-9ecc-4aa9efa3519f",
   "metadata": {},
   "outputs": [],
   "source": []
  }
 ],
 "metadata": {
  "kernelspec": {
   "display_name": "Python 3 (ipykernel)",
   "language": "python",
   "name": "python3"
  },
  "language_info": {
   "codemirror_mode": {
    "name": "ipython",
    "version": 3
   },
   "file_extension": ".py",
   "mimetype": "text/x-python",
   "name": "python",
   "nbconvert_exporter": "python",
   "pygments_lexer": "ipython3",
   "version": "3.9.12"
  }
 },
 "nbformat": 4,
 "nbformat_minor": 5
}

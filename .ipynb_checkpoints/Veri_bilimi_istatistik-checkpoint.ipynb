{
 "cells": [
  {
   "cell_type": "markdown",
   "id": "cb3d0ae6-7225-4d60-a9c8-2f2ccf4fe474",
   "metadata": {},
   "source": [
    "# İstatistik"
   ]
  },
  {
   "cell_type": "code",
   "execution_count": 1,
   "id": "6a432253-27b4-481b-8ea6-cd6f1a823d03",
   "metadata": {},
   "outputs": [],
   "source": [
    "import numpy as np"
   ]
  },
  {
   "cell_type": "code",
   "execution_count": 2,
   "id": "b24bd058-1a23-4f56-ab70-8132682e2eaf",
   "metadata": {},
   "outputs": [],
   "source": [
    "populasyon = np.random.randint(0,80 , 10000)"
   ]
  },
  {
   "cell_type": "code",
   "execution_count": 3,
   "id": "1d3f73d1-5b30-4ae7-9300-f3447571cc4a",
   "metadata": {},
   "outputs": [
    {
     "data": {
      "text/plain": [
       "array([ 8, 19, 41, ..., 15, 44, 60])"
      ]
     },
     "execution_count": 3,
     "metadata": {},
     "output_type": "execute_result"
    }
   ],
   "source": [
    "populasyon"
   ]
  },
  {
   "cell_type": "markdown",
   "id": "28129f7f-da54-4012-8954-f73615c31aea",
   "metadata": {},
   "source": [
    "örneklem çekme"
   ]
  },
  {
   "cell_type": "code",
   "execution_count": 8,
   "id": "fc99565b-3723-4014-8e0a-c26ed3bc5864",
   "metadata": {},
   "outputs": [
    {
     "data": {
      "text/plain": [
       "array([21, 14, 62, 10, 12, 39, 53,  3, 75, 68])"
      ]
     },
     "execution_count": 8,
     "metadata": {},
     "output_type": "execute_result"
    }
   ],
   "source": [
    "np.random.seed(115)\n",
    "orneklem = np.random.choice(a = populasyon, size = 100)\n",
    "orneklem[0:10]"
   ]
  },
  {
   "cell_type": "code",
   "execution_count": 9,
   "id": "c8013e39-e75f-4104-9545-0390c9e47011",
   "metadata": {},
   "outputs": [
    {
     "data": {
      "text/plain": [
       "39.47"
      ]
     },
     "execution_count": 9,
     "metadata": {},
     "output_type": "execute_result"
    }
   ],
   "source": [
    "orneklem.mean()"
   ]
  },
  {
   "cell_type": "code",
   "execution_count": 10,
   "id": "17a1b326-8284-4fe9-a063-a0e8bb61f0df",
   "metadata": {},
   "outputs": [
    {
     "data": {
      "text/plain": [
       "39.5802"
      ]
     },
     "execution_count": 10,
     "metadata": {},
     "output_type": "execute_result"
    }
   ],
   "source": [
    "populasyon.mean()"
   ]
  },
  {
   "cell_type": "markdown",
   "id": "723f47ef-6d3c-4726-8436-76ea69e91bcb",
   "metadata": {},
   "source": [
    "# orneklem dağılım"
   ]
  },
  {
   "cell_type": "code",
   "execution_count": 11,
   "id": "7ed7d81b-8096-4edf-8192-fa331008ecd4",
   "metadata": {},
   "outputs": [],
   "source": [
    "np.random.seed(10)\n",
    "orneklem1 = np.random.choice(a = populasyon, size = 100)\n",
    "orneklem2 = np.random.choice(a = populasyon, size = 100)\n",
    "orneklem3 = np.random.choice(a = populasyon, size = 100)\n",
    "orneklem4 = np.random.choice(a = populasyon, size = 100)\n",
    "orneklem5 = np.random.choice(a = populasyon, size = 100)\n",
    "orneklem6 = np.random.choice(a = populasyon, size = 100)\n",
    "orneklem7 = np.random.choice(a = populasyon, size = 100)\n",
    "orneklem8 = np.random.choice(a = populasyon, size = 100)\n",
    "orneklem9 = np.random.choice(a = populasyon, size = 100)\n",
    "orneklem10 = np.random.choice(a = populasyon, size = 100)"
   ]
  },
  {
   "cell_type": "code",
   "execution_count": 12,
   "id": "2a9eb692-b2db-4c14-86c5-9a26ecf4559f",
   "metadata": {},
   "outputs": [
    {
     "data": {
      "text/plain": [
       "39.95399999999999"
      ]
     },
     "execution_count": 12,
     "metadata": {},
     "output_type": "execute_result"
    }
   ],
   "source": [
    "(orneklem1.mean() + orneklem2.mean() + orneklem3.mean() + orneklem4.mean() + orneklem5.mean() \n",
    "+ orneklem6.mean() + orneklem7.mean() + orneklem8.mean() + orneklem9.mean() + orneklem10.mean() )  / 10"
   ]
  },
  {
   "cell_type": "markdown",
   "id": "fe610b3a-d839-45e6-ae10-608608973bcd",
   "metadata": {},
   "source": [
    "# betimsel istatistik"
   ]
  },
  {
   "cell_type": "code",
   "execution_count": 13,
   "id": "3581952e-4b05-4918-9d46-ac48cff858e8",
   "metadata": {},
   "outputs": [],
   "source": [
    "import seaborn as sns"
   ]
  },
  {
   "cell_type": "code",
   "execution_count": 14,
   "id": "d3ff4671-ed87-42de-af4d-d12894124947",
   "metadata": {},
   "outputs": [],
   "source": [
    "tips = sns.load_dataset(\"tips\")"
   ]
  },
  {
   "cell_type": "code",
   "execution_count": 15,
   "id": "907b3502-72e3-4a9a-ad3a-593c29b61ca7",
   "metadata": {},
   "outputs": [],
   "source": [
    "df = tips.copy()"
   ]
  },
  {
   "cell_type": "code",
   "execution_count": 16,
   "id": "91707efd-7092-43fc-8498-29cf88fa34e2",
   "metadata": {},
   "outputs": [
    {
     "data": {
      "text/html": [
       "<div>\n",
       "<style scoped>\n",
       "    .dataframe tbody tr th:only-of-type {\n",
       "        vertical-align: middle;\n",
       "    }\n",
       "\n",
       "    .dataframe tbody tr th {\n",
       "        vertical-align: top;\n",
       "    }\n",
       "\n",
       "    .dataframe thead th {\n",
       "        text-align: right;\n",
       "    }\n",
       "</style>\n",
       "<table border=\"1\" class=\"dataframe\">\n",
       "  <thead>\n",
       "    <tr style=\"text-align: right;\">\n",
       "      <th></th>\n",
       "      <th>count</th>\n",
       "      <th>mean</th>\n",
       "      <th>std</th>\n",
       "      <th>min</th>\n",
       "      <th>25%</th>\n",
       "      <th>50%</th>\n",
       "      <th>75%</th>\n",
       "      <th>max</th>\n",
       "    </tr>\n",
       "  </thead>\n",
       "  <tbody>\n",
       "    <tr>\n",
       "      <th>total_bill</th>\n",
       "      <td>244.0</td>\n",
       "      <td>19.785943</td>\n",
       "      <td>8.902412</td>\n",
       "      <td>3.07</td>\n",
       "      <td>13.3475</td>\n",
       "      <td>17.795</td>\n",
       "      <td>24.1275</td>\n",
       "      <td>50.81</td>\n",
       "    </tr>\n",
       "    <tr>\n",
       "      <th>tip</th>\n",
       "      <td>244.0</td>\n",
       "      <td>2.998279</td>\n",
       "      <td>1.383638</td>\n",
       "      <td>1.00</td>\n",
       "      <td>2.0000</td>\n",
       "      <td>2.900</td>\n",
       "      <td>3.5625</td>\n",
       "      <td>10.00</td>\n",
       "    </tr>\n",
       "    <tr>\n",
       "      <th>size</th>\n",
       "      <td>244.0</td>\n",
       "      <td>2.569672</td>\n",
       "      <td>0.951100</td>\n",
       "      <td>1.00</td>\n",
       "      <td>2.0000</td>\n",
       "      <td>2.000</td>\n",
       "      <td>3.0000</td>\n",
       "      <td>6.00</td>\n",
       "    </tr>\n",
       "  </tbody>\n",
       "</table>\n",
       "</div>"
      ],
      "text/plain": [
       "            count       mean       std   min      25%     50%      75%    max\n",
       "total_bill  244.0  19.785943  8.902412  3.07  13.3475  17.795  24.1275  50.81\n",
       "tip         244.0   2.998279  1.383638  1.00   2.0000   2.900   3.5625  10.00\n",
       "size        244.0   2.569672  0.951100  1.00   2.0000   2.000   3.0000   6.00"
      ]
     },
     "execution_count": 16,
     "metadata": {},
     "output_type": "execute_result"
    }
   ],
   "source": [
    "df.describe().T"
   ]
  },
  {
   "cell_type": "code",
   "execution_count": 17,
   "id": "055e8b3a-ddce-4918-af33-d1c9ca8f9f6b",
   "metadata": {},
   "outputs": [
    {
     "data": {
      "text/html": [
       "<div>\n",
       "<style scoped>\n",
       "    .dataframe tbody tr th:only-of-type {\n",
       "        vertical-align: middle;\n",
       "    }\n",
       "\n",
       "    .dataframe tbody tr th {\n",
       "        vertical-align: top;\n",
       "    }\n",
       "\n",
       "    .dataframe thead th {\n",
       "        text-align: right;\n",
       "    }\n",
       "</style>\n",
       "<table border=\"1\" class=\"dataframe\">\n",
       "  <thead>\n",
       "    <tr style=\"text-align: right;\">\n",
       "      <th></th>\n",
       "      <th>total_bill</th>\n",
       "      <th>tip</th>\n",
       "      <th>sex</th>\n",
       "      <th>smoker</th>\n",
       "      <th>day</th>\n",
       "      <th>time</th>\n",
       "      <th>size</th>\n",
       "    </tr>\n",
       "  </thead>\n",
       "  <tbody>\n",
       "    <tr>\n",
       "      <th>0</th>\n",
       "      <td>16.99</td>\n",
       "      <td>1.01</td>\n",
       "      <td>Female</td>\n",
       "      <td>No</td>\n",
       "      <td>Sun</td>\n",
       "      <td>Dinner</td>\n",
       "      <td>2</td>\n",
       "    </tr>\n",
       "    <tr>\n",
       "      <th>1</th>\n",
       "      <td>10.34</td>\n",
       "      <td>1.66</td>\n",
       "      <td>Male</td>\n",
       "      <td>No</td>\n",
       "      <td>Sun</td>\n",
       "      <td>Dinner</td>\n",
       "      <td>3</td>\n",
       "    </tr>\n",
       "    <tr>\n",
       "      <th>2</th>\n",
       "      <td>21.01</td>\n",
       "      <td>3.50</td>\n",
       "      <td>Male</td>\n",
       "      <td>No</td>\n",
       "      <td>Sun</td>\n",
       "      <td>Dinner</td>\n",
       "      <td>3</td>\n",
       "    </tr>\n",
       "    <tr>\n",
       "      <th>3</th>\n",
       "      <td>23.68</td>\n",
       "      <td>3.31</td>\n",
       "      <td>Male</td>\n",
       "      <td>No</td>\n",
       "      <td>Sun</td>\n",
       "      <td>Dinner</td>\n",
       "      <td>2</td>\n",
       "    </tr>\n",
       "    <tr>\n",
       "      <th>4</th>\n",
       "      <td>24.59</td>\n",
       "      <td>3.61</td>\n",
       "      <td>Female</td>\n",
       "      <td>No</td>\n",
       "      <td>Sun</td>\n",
       "      <td>Dinner</td>\n",
       "      <td>4</td>\n",
       "    </tr>\n",
       "  </tbody>\n",
       "</table>\n",
       "</div>"
      ],
      "text/plain": [
       "   total_bill   tip     sex smoker  day    time  size\n",
       "0       16.99  1.01  Female     No  Sun  Dinner     2\n",
       "1       10.34  1.66    Male     No  Sun  Dinner     3\n",
       "2       21.01  3.50    Male     No  Sun  Dinner     3\n",
       "3       23.68  3.31    Male     No  Sun  Dinner     2\n",
       "4       24.59  3.61  Female     No  Sun  Dinner     4"
      ]
     },
     "execution_count": 17,
     "metadata": {},
     "output_type": "execute_result"
    }
   ],
   "source": [
    "df.head()"
   ]
  },
  {
   "cell_type": "code",
   "execution_count": 18,
   "id": "c1deb1c2-dd5e-42bf-95c9-a6b257d47588",
   "metadata": {},
   "outputs": [
    {
     "name": "stdout",
     "output_type": "stream",
     "text": [
      "Collecting researchpy\n",
      "  Downloading researchpy-0.3.2-py3-none-any.whl (15 kB)\n",
      "Requirement already satisfied: numpy in c:\\anaconda\\lib\\site-packages (from researchpy) (1.21.5)\n",
      "Requirement already satisfied: statsmodels in c:\\anaconda\\lib\\site-packages (from researchpy) (0.13.2)\n",
      "Requirement already satisfied: patsy in c:\\anaconda\\lib\\site-packages (from researchpy) (0.5.2)\n",
      "Requirement already satisfied: scipy in c:\\anaconda\\lib\\site-packages (from researchpy) (1.7.3)\n",
      "Requirement already satisfied: pandas in c:\\anaconda\\lib\\site-packages (from researchpy) (1.4.2)\n",
      "Requirement already satisfied: python-dateutil>=2.8.1 in c:\\anaconda\\lib\\site-packages (from pandas->researchpy) (2.8.2)\n",
      "Requirement already satisfied: pytz>=2020.1 in c:\\anaconda\\lib\\site-packages (from pandas->researchpy) (2021.3)\n",
      "Requirement already satisfied: six>=1.5 in c:\\anaconda\\lib\\site-packages (from python-dateutil>=2.8.1->pandas->researchpy) (1.16.0)\n",
      "Requirement already satisfied: packaging>=21.3 in c:\\anaconda\\lib\\site-packages (from statsmodels->researchpy) (21.3)\n",
      "Requirement already satisfied: pyparsing!=3.0.5,>=2.0.2 in c:\\anaconda\\lib\\site-packages (from packaging>=21.3->statsmodels->researchpy) (3.0.4)\n",
      "Installing collected packages: researchpy\n",
      "Successfully installed researchpy-0.3.2\n"
     ]
    }
   ],
   "source": [
    "!pip install researchpy "
   ]
  },
  {
   "cell_type": "code",
   "execution_count": 19,
   "id": "3b8be967-e34e-4376-8ccb-5f8cf1c3bde6",
   "metadata": {},
   "outputs": [],
   "source": [
    "import researchpy as rp"
   ]
  },
  {
   "cell_type": "code",
   "execution_count": 20,
   "id": "388d62a9-14d7-4a28-9859-052c52d36765",
   "metadata": {},
   "outputs": [
    {
     "name": "stdout",
     "output_type": "stream",
     "text": [
      "\n",
      "\n"
     ]
    },
    {
     "data": {
      "text/html": [
       "<div>\n",
       "<style scoped>\n",
       "    .dataframe tbody tr th:only-of-type {\n",
       "        vertical-align: middle;\n",
       "    }\n",
       "\n",
       "    .dataframe tbody tr th {\n",
       "        vertical-align: top;\n",
       "    }\n",
       "\n",
       "    .dataframe thead th {\n",
       "        text-align: right;\n",
       "    }\n",
       "</style>\n",
       "<table border=\"1\" class=\"dataframe\">\n",
       "  <thead>\n",
       "    <tr style=\"text-align: right;\">\n",
       "      <th></th>\n",
       "      <th>Variable</th>\n",
       "      <th>N</th>\n",
       "      <th>Mean</th>\n",
       "      <th>SD</th>\n",
       "      <th>SE</th>\n",
       "      <th>95% Conf.</th>\n",
       "      <th>Interval</th>\n",
       "    </tr>\n",
       "  </thead>\n",
       "  <tbody>\n",
       "    <tr>\n",
       "      <th>0</th>\n",
       "      <td>total_bill</td>\n",
       "      <td>244.0</td>\n",
       "      <td>19.7859</td>\n",
       "      <td>8.9024</td>\n",
       "      <td>0.5699</td>\n",
       "      <td>18.6633</td>\n",
       "      <td>20.9086</td>\n",
       "    </tr>\n",
       "    <tr>\n",
       "      <th>1</th>\n",
       "      <td>tip</td>\n",
       "      <td>244.0</td>\n",
       "      <td>2.9983</td>\n",
       "      <td>1.3836</td>\n",
       "      <td>0.0886</td>\n",
       "      <td>2.8238</td>\n",
       "      <td>3.1728</td>\n",
       "    </tr>\n",
       "    <tr>\n",
       "      <th>2</th>\n",
       "      <td>size</td>\n",
       "      <td>244.0</td>\n",
       "      <td>2.5697</td>\n",
       "      <td>0.9511</td>\n",
       "      <td>0.0609</td>\n",
       "      <td>2.4497</td>\n",
       "      <td>2.6896</td>\n",
       "    </tr>\n",
       "  </tbody>\n",
       "</table>\n",
       "</div>"
      ],
      "text/plain": [
       "     Variable      N     Mean      SD      SE  95% Conf.  Interval\n",
       "0  total_bill  244.0  19.7859  8.9024  0.5699    18.6633   20.9086\n",
       "1         tip  244.0   2.9983  1.3836  0.0886     2.8238    3.1728\n",
       "2        size  244.0   2.5697  0.9511  0.0609     2.4497    2.6896"
      ]
     },
     "execution_count": 20,
     "metadata": {},
     "output_type": "execute_result"
    }
   ],
   "source": [
    "rp.summary_cont(df[[\"total_bill\",\"tip\",\"size\"]])"
   ]
  },
  {
   "cell_type": "code",
   "execution_count": 21,
   "id": "09df4e8d-8690-4dc1-a5e8-1d37e9f5bc90",
   "metadata": {},
   "outputs": [
    {
     "data": {
      "text/html": [
       "<div>\n",
       "<style scoped>\n",
       "    .dataframe tbody tr th:only-of-type {\n",
       "        vertical-align: middle;\n",
       "    }\n",
       "\n",
       "    .dataframe tbody tr th {\n",
       "        vertical-align: top;\n",
       "    }\n",
       "\n",
       "    .dataframe thead th {\n",
       "        text-align: right;\n",
       "    }\n",
       "</style>\n",
       "<table border=\"1\" class=\"dataframe\">\n",
       "  <thead>\n",
       "    <tr style=\"text-align: right;\">\n",
       "      <th></th>\n",
       "      <th>Variable</th>\n",
       "      <th>Outcome</th>\n",
       "      <th>Count</th>\n",
       "      <th>Percent</th>\n",
       "    </tr>\n",
       "  </thead>\n",
       "  <tbody>\n",
       "    <tr>\n",
       "      <th>0</th>\n",
       "      <td>sex</td>\n",
       "      <td>Male</td>\n",
       "      <td>157</td>\n",
       "      <td>64.34</td>\n",
       "    </tr>\n",
       "    <tr>\n",
       "      <th>1</th>\n",
       "      <td></td>\n",
       "      <td>Female</td>\n",
       "      <td>87</td>\n",
       "      <td>35.66</td>\n",
       "    </tr>\n",
       "    <tr>\n",
       "      <th>2</th>\n",
       "      <td>smoker</td>\n",
       "      <td>No</td>\n",
       "      <td>151</td>\n",
       "      <td>61.89</td>\n",
       "    </tr>\n",
       "    <tr>\n",
       "      <th>3</th>\n",
       "      <td></td>\n",
       "      <td>Yes</td>\n",
       "      <td>93</td>\n",
       "      <td>38.11</td>\n",
       "    </tr>\n",
       "    <tr>\n",
       "      <th>4</th>\n",
       "      <td>day</td>\n",
       "      <td>Sat</td>\n",
       "      <td>87</td>\n",
       "      <td>35.66</td>\n",
       "    </tr>\n",
       "    <tr>\n",
       "      <th>5</th>\n",
       "      <td></td>\n",
       "      <td>Sun</td>\n",
       "      <td>76</td>\n",
       "      <td>31.15</td>\n",
       "    </tr>\n",
       "    <tr>\n",
       "      <th>6</th>\n",
       "      <td></td>\n",
       "      <td>Thur</td>\n",
       "      <td>62</td>\n",
       "      <td>25.41</td>\n",
       "    </tr>\n",
       "    <tr>\n",
       "      <th>7</th>\n",
       "      <td></td>\n",
       "      <td>Fri</td>\n",
       "      <td>19</td>\n",
       "      <td>7.79</td>\n",
       "    </tr>\n",
       "  </tbody>\n",
       "</table>\n",
       "</div>"
      ],
      "text/plain": [
       "  Variable Outcome  Count  Percent\n",
       "0      sex    Male    157    64.34\n",
       "1           Female     87    35.66\n",
       "2   smoker      No    151    61.89\n",
       "3              Yes     93    38.11\n",
       "4      day     Sat     87    35.66\n",
       "5              Sun     76    31.15\n",
       "6             Thur     62    25.41\n",
       "7              Fri     19     7.79"
      ]
     },
     "execution_count": 21,
     "metadata": {},
     "output_type": "execute_result"
    }
   ],
   "source": [
    "rp.summary_cat(df[[\"sex\",\"smoker\",\"day\"]])"
   ]
  },
  {
   "cell_type": "code",
   "execution_count": 22,
   "id": "df9b9f70-bf8a-4650-994c-175a5cb3ef04",
   "metadata": {},
   "outputs": [
    {
     "data": {
      "text/html": [
       "<div>\n",
       "<style scoped>\n",
       "    .dataframe tbody tr th:only-of-type {\n",
       "        vertical-align: middle;\n",
       "    }\n",
       "\n",
       "    .dataframe tbody tr th {\n",
       "        vertical-align: top;\n",
       "    }\n",
       "\n",
       "    .dataframe thead th {\n",
       "        text-align: right;\n",
       "    }\n",
       "</style>\n",
       "<table border=\"1\" class=\"dataframe\">\n",
       "  <thead>\n",
       "    <tr style=\"text-align: right;\">\n",
       "      <th></th>\n",
       "      <th>tip</th>\n",
       "      <th>total_bill</th>\n",
       "    </tr>\n",
       "  </thead>\n",
       "  <tbody>\n",
       "    <tr>\n",
       "      <th>tip</th>\n",
       "      <td>1.914455</td>\n",
       "      <td>8.323502</td>\n",
       "    </tr>\n",
       "    <tr>\n",
       "      <th>total_bill</th>\n",
       "      <td>8.323502</td>\n",
       "      <td>79.252939</td>\n",
       "    </tr>\n",
       "  </tbody>\n",
       "</table>\n",
       "</div>"
      ],
      "text/plain": [
       "                 tip  total_bill\n",
       "tip         1.914455    8.323502\n",
       "total_bill  8.323502   79.252939"
      ]
     },
     "execution_count": 22,
     "metadata": {},
     "output_type": "execute_result"
    }
   ],
   "source": [
    "df[[\"tip\",\"total_bill\"]].cov()"
   ]
  },
  {
   "cell_type": "code",
   "execution_count": 24,
   "id": "3e8c3357-e49c-4f40-823a-f8d4babb5f9e",
   "metadata": {},
   "outputs": [
    {
     "data": {
      "text/html": [
       "<div>\n",
       "<style scoped>\n",
       "    .dataframe tbody tr th:only-of-type {\n",
       "        vertical-align: middle;\n",
       "    }\n",
       "\n",
       "    .dataframe tbody tr th {\n",
       "        vertical-align: top;\n",
       "    }\n",
       "\n",
       "    .dataframe thead th {\n",
       "        text-align: right;\n",
       "    }\n",
       "</style>\n",
       "<table border=\"1\" class=\"dataframe\">\n",
       "  <thead>\n",
       "    <tr style=\"text-align: right;\">\n",
       "      <th></th>\n",
       "      <th>tip</th>\n",
       "      <th>total_bill</th>\n",
       "    </tr>\n",
       "  </thead>\n",
       "  <tbody>\n",
       "    <tr>\n",
       "      <th>tip</th>\n",
       "      <td>1.000000</td>\n",
       "      <td>0.675734</td>\n",
       "    </tr>\n",
       "    <tr>\n",
       "      <th>total_bill</th>\n",
       "      <td>0.675734</td>\n",
       "      <td>1.000000</td>\n",
       "    </tr>\n",
       "  </tbody>\n",
       "</table>\n",
       "</div>"
      ],
      "text/plain": [
       "                 tip  total_bill\n",
       "tip         1.000000    0.675734\n",
       "total_bill  0.675734    1.000000"
      ]
     },
     "execution_count": 24,
     "metadata": {},
     "output_type": "execute_result"
    }
   ],
   "source": [
    "df[[\"tip\",\"total_bill\"]].corr()"
   ]
  },
  {
   "cell_type": "markdown",
   "id": "9a2a7d8e-dde4-4768-9ff8-f77b51b9c5c6",
   "metadata": {},
   "source": [
    "# İŞ UYGULAMASI Açık artırma ortalama"
   ]
  },
  {
   "cell_type": "code",
   "execution_count": 2,
   "id": "a14f3814-127e-41b8-8807-01b7e70cd472",
   "metadata": {},
   "outputs": [],
   "source": [
    "import numpy as np\n",
    "fiyatlar = np.random.randint(10,110,1000)"
   ]
  },
  {
   "cell_type": "code",
   "execution_count": 3,
   "id": "1294fdc2-e7ac-4fe8-9451-2fa3865dd3fa",
   "metadata": {},
   "outputs": [
    {
     "data": {
      "text/plain": [
       "array([ 60,  27,  63,  62, 106,  22, 109,  13,  56,  39,  56,  58,  25,\n",
       "       104,  69,  83,  12,  11,  17,  22,  45,  47,  95, 104,  51,  51,\n",
       "        48,  99, 104,  96,  22,  60,  26,  52,  23,  76, 104,  27,  72,\n",
       "        93,  77, 105,  45,  12,  98,  33,  55,  77, 108,  43,  21,  42,\n",
       "        96,  33,  69, 103,  78,  48,  91,  69,  39,  89,  13,  14,  22,\n",
       "        20,  76,  81,  78,  40,  88,  49,  23,  19, 106,  46,  79, 105,\n",
       "        52,  21,  81,  11,  60,  26,  87,  62,  58,  47, 106,  54,  21,\n",
       "        24,  53, 105,  16,  84,  74,  19,  79,  74, 109,  96,  33,  28,\n",
       "        67,  99,  69,  78,  91,  65,  68, 109,  46,  70,  32, 106,  55,\n",
       "        75,  34, 108,  38,  96,  48,  24,  53,  55,  49,  68,  58,  52,\n",
       "        96,  63,  76,  56,  42, 100,  42,  11,  45,  39,  91,  65,  19,\n",
       "        20,  20,  67,  42,  39,  58,  13,  81,  48,  28,  62,  26,  40,\n",
       "        62,  97,  75,  10,  95,  61,  71,  85,  31,  77,  39,  36,  14,\n",
       "        91,  62,  72,  92,  76,  56,  59, 109,  79,  50,  61,  99,  36,\n",
       "        71,  33,  62,  56,  80,  84,  30,  36,  89,  96,  31, 100, 108,\n",
       "        10,  22,  67,  68,  86,  31,  11,  14,  47,  31,  28, 108,  10,\n",
       "        16,  12,  61,  37,  35, 100,  48,  57,  90,  66,  19,  41,  97,\n",
       "        18,  35,  22,  85,  69,  14,  17,  40,  73,  36,  50,  30,  23,\n",
       "        64,  77,  22,  77,  42,  33,  77,  87,  24,  37,  29,  38, 108,\n",
       "        21,  65,  64,  60,  15,  38,  22,  68, 100,  11,  76,  58,  56,\n",
       "        99,  85,  93,  45,  99,  67,  48,  21,  49,  26, 102,  51,  13,\n",
       "       104,  94,  40,  17, 105,  56,  74,  99,  61,  33,  23,  75,  60,\n",
       "        22,  44, 108,  72,  23,  46,  50,  66,  27,  83,  59,  22,  14,\n",
       "        46,  77,  74,  38,  82,  65,  52,  27,  49,  28,  13,  36,  95,\n",
       "        77,  46,  15,  79,  69,  37,  77,  31,  70,  26,  65,  45,  18,\n",
       "        86,  52,  18, 105, 109,  21,  94,  88,  69, 101,  40,  54,  54,\n",
       "        29,  41,  31,  72,  47,  23,  80,  87,  32,  13,  96,  13,  15,\n",
       "        58,  94,  98,  98,  15,  44,  59,  20,  22,  24,  57,  72,  59,\n",
       "        82,  48,  35,  85,  36,  27, 109,  82,  16,  82,  90,  89,  53,\n",
       "        42,  25,  88,  57,  64,  41,  57,  65,  48,  97,  12,  62,  44,\n",
       "        40,  60,  98,  55,  50,  97,  30,  12,  98,  83,  91,  81,  19,\n",
       "        13,  21,  55, 100,  59,  81, 109,  91,  31,  61,  46,  95, 108,\n",
       "        51, 101,  16,  71,  90,  61,  37,  65,  86,  89,  34,  35,  61,\n",
       "        32,  96,  80,  73,  77,  70,  85,  39,  63,  64,  28,  77,  10,\n",
       "        48, 106,  40,  42,  26,  93,  47,  56,  85,  27,  53, 100,  55,\n",
       "        16,  58,  32,  39,  50,  62,  94,  75,  51,  79,  70,  73, 102,\n",
       "        49,  25,  18,  59,  87,  27,  64,  26, 100,  52,  71,  47,  32,\n",
       "        89,  22, 107,  14,  74,  37,  90,  65,  16,  76,  62,  21,  73,\n",
       "       107,  28,  68,  36,  49,  12,  49,  96,  85,  61,  53,  95,  26,\n",
       "        63,  98,  52,  64,  17,  20,  56,  41, 102,  74,  45,  10,  32,\n",
       "       108,  18,  97,  83,  32,  54,  37,  55,  65,  99,  85,  80, 103,\n",
       "        72, 108, 107, 109,  38, 108, 104,  35,  27,  31,  83,  72,  58,\n",
       "        96, 107,  45,  24, 105,  88,  70,  20,  55,  10,  97,  13,  31,\n",
       "        84,  28,  27,  30, 103,  34,  13,  96,  77, 109,  38,  69,  95,\n",
       "        77,  78,  14,  91,  17, 102,  56,  79, 103,  75,  42,  56,  33,\n",
       "       102,  32,  26, 108,  81,  37,  50,  26,  47,  87,  30,  37,  52,\n",
       "        69,  84,  83,  30,  95,  37,  12,  60,  75,  48,  11,  90,  10,\n",
       "        99,  49,  64,  16,  95,  99,  69,  55,  41,  72,  41,  49,  12,\n",
       "       109,  93,  24,  25,  35,  37,  47,  69,  63,  49,  15, 105,  62,\n",
       "        44,  45,  15,  29,  57, 105,  26,  31,  70,  99,  60,  93, 105,\n",
       "        76, 107,  48,  47,  68,  78,  38,  71, 104,  14,  35,  22,  86,\n",
       "        93,  21,  61,  82,  63,  34,  52,  79, 107,  39,  28, 109,  17,\n",
       "        66,  46,  70,  40,  18,  41,  48,  15,  69, 105,  81,  98,  11,\n",
       "       100,  60,  42,  28,  23,  43,  46,  17,  87,  89,  96,  25, 104,\n",
       "        92,  96,  71,  99, 107,  32, 109,  95,  16,  20,  79,  70,  43,\n",
       "        51,  59,  96,  11,  16,  68,  79,  71,  16,  46,  76,  85,  58,\n",
       "        79,  12, 109,  33,  23,  14,  25, 105,  54,  81,  91,  67, 104,\n",
       "       107,  42,  29,  31,  57,  32,  38,  32,  34,  53,  11, 102,  84,\n",
       "        73,  83,  54,  40,  80,  77,  66,  33,  29,  55,  29,  71, 107,\n",
       "        64,  33,  10,  77,  73,  88,  15,  10,  59,  18,  27, 109,  99,\n",
       "        38,  83,  89,  90,  95,  43,  73,  94, 106,  17,  65,  65,  33,\n",
       "        45,  95,  28,  11,  21,  34,  12,  35, 105,  31,  54,  11,  50,\n",
       "       101,  79,  44,  23,  12,  58,  50,  79,  23,  23,  92,  14,  10,\n",
       "        70,  77,  71, 104, 105,  34,  37,  70,  87,  20,  55,  59,  32,\n",
       "        22,  55,  64,  67,  24,  77,  26,  36,  58,  51,  66,  32,  77,\n",
       "        27,  44,  33,  93,  10,  25,  95,  94,  88,  91,  54,  37,  87,\n",
       "        72,  62,  35, 104,  27,  26,  13,  60,  57,  24,  79,  67,  73,\n",
       "        21,  22,  81,  93,  40, 109, 103,  26,  73,  22,  61,  13,  13,\n",
       "        66,  61,  98,  38,  10,  75,  98,  14,  74,  22,  43,  43,  45,\n",
       "        48,  67,  64,  50, 109,  73,  32,  71,  45,  95,  74,  63,  54,\n",
       "        52,  20,  93,  90,  86,  30,  98,  97,  70,  24,  66,  50,  85,\n",
       "        24, 101,  53, 105,  61,  38,  65,  15,  13,  64,  12,  91,  76,\n",
       "        23,  37,  15,  87,  54,  25,  57,  66,  68,  26,  72,  21,  25,\n",
       "        56,  46,  67,  98,  25,  66,  97, 104,  97, 102,  37,  83,  48,\n",
       "        39,  71,  71, 109,  30,  42,  61,  71,  44,  79,  24,  89,  60,\n",
       "        98,  73,  22,  99,  68,  63,  82,  83,  46,  67,  35,  36, 106,\n",
       "        80,  24,  43,  77,  62,  95,  98,  53,  47,  70,  95,  97])"
      ]
     },
     "execution_count": 3,
     "metadata": {},
     "output_type": "execute_result"
    }
   ],
   "source": [
    "fiyatlar"
   ]
  },
  {
   "cell_type": "code",
   "execution_count": 4,
   "id": "b84ff1fd-79b9-4c4c-8206-72efa99f5076",
   "metadata": {},
   "outputs": [
    {
     "data": {
      "text/plain": [
       "58.145"
      ]
     },
     "execution_count": 4,
     "metadata": {},
     "output_type": "execute_result"
    }
   ],
   "source": [
    "fiyatlar.mean()"
   ]
  },
  {
   "cell_type": "code",
   "execution_count": 5,
   "id": "c4341cec-43b7-4dd6-ae12-5496469626c4",
   "metadata": {},
   "outputs": [],
   "source": [
    "import statsmodels.stats.api as sms"
   ]
  },
  {
   "cell_type": "code",
   "execution_count": 6,
   "id": "330dc84c-0113-48f1-8d71-1b53b58c26c1",
   "metadata": {},
   "outputs": [
    {
     "data": {
      "text/plain": [
       "(56.33925477174395, 59.950745228256054)"
      ]
     },
     "execution_count": 6,
     "metadata": {},
     "output_type": "execute_result"
    }
   ],
   "source": [
    "sms.DescrStatsW(fiyatlar).tconfint_mean()"
   ]
  },
  {
   "cell_type": "code",
   "execution_count": null,
   "id": "e57bcd4e-57c4-43ed-8e85-936be286423e",
   "metadata": {},
   "outputs": [],
   "source": []
  }
 ],
 "metadata": {
  "kernelspec": {
   "display_name": "Python 3 (ipykernel)",
   "language": "python",
   "name": "python3"
  },
  "language_info": {
   "codemirror_mode": {
    "name": "ipython",
    "version": 3
   },
   "file_extension": ".py",
   "mimetype": "text/x-python",
   "name": "python",
   "nbconvert_exporter": "python",
   "pygments_lexer": "ipython3",
   "version": "3.9.12"
  }
 },
 "nbformat": 4,
 "nbformat_minor": 5
}

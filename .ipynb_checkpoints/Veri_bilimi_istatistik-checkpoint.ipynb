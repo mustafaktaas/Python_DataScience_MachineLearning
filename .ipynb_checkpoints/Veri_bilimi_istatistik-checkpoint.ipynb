{
 "cells": [
  {
   "cell_type": "markdown",
   "id": "cb3d0ae6-7225-4d60-a9c8-2f2ccf4fe474",
   "metadata": {},
   "source": [
    "# İstatistik"
   ]
  },
  {
   "cell_type": "code",
   "execution_count": 1,
   "id": "6a432253-27b4-481b-8ea6-cd6f1a823d03",
   "metadata": {},
   "outputs": [],
   "source": [
    "import numpy as np"
   ]
  },
  {
   "cell_type": "code",
   "execution_count": 2,
   "id": "b24bd058-1a23-4f56-ab70-8132682e2eaf",
   "metadata": {},
   "outputs": [],
   "source": [
    "populasyon = np.random.randint(0,80 , 10000)"
   ]
  },
  {
   "cell_type": "code",
   "execution_count": 3,
   "id": "1d3f73d1-5b30-4ae7-9300-f3447571cc4a",
   "metadata": {},
   "outputs": [
    {
     "data": {
      "text/plain": [
       "array([ 8, 19, 41, ..., 15, 44, 60])"
      ]
     },
     "execution_count": 3,
     "metadata": {},
     "output_type": "execute_result"
    }
   ],
   "source": [
    "populasyon"
   ]
  },
  {
   "cell_type": "markdown",
   "id": "28129f7f-da54-4012-8954-f73615c31aea",
   "metadata": {},
   "source": [
    "örneklem çekme"
   ]
  },
  {
   "cell_type": "code",
   "execution_count": 8,
   "id": "fc99565b-3723-4014-8e0a-c26ed3bc5864",
   "metadata": {},
   "outputs": [
    {
     "data": {
      "text/plain": [
       "array([21, 14, 62, 10, 12, 39, 53,  3, 75, 68])"
      ]
     },
     "execution_count": 8,
     "metadata": {},
     "output_type": "execute_result"
    }
   ],
   "source": [
    "np.random.seed(115)\n",
    "orneklem = np.random.choice(a = populasyon, size = 100)\n",
    "orneklem[0:10]"
   ]
  },
  {
   "cell_type": "code",
   "execution_count": 9,
   "id": "c8013e39-e75f-4104-9545-0390c9e47011",
   "metadata": {},
   "outputs": [
    {
     "data": {
      "text/plain": [
       "39.47"
      ]
     },
     "execution_count": 9,
     "metadata": {},
     "output_type": "execute_result"
    }
   ],
   "source": [
    "orneklem.mean()"
   ]
  },
  {
   "cell_type": "code",
   "execution_count": 10,
   "id": "17a1b326-8284-4fe9-a063-a0e8bb61f0df",
   "metadata": {},
   "outputs": [
    {
     "data": {
      "text/plain": [
       "39.5802"
      ]
     },
     "execution_count": 10,
     "metadata": {},
     "output_type": "execute_result"
    }
   ],
   "source": [
    "populasyon.mean()"
   ]
  },
  {
   "cell_type": "markdown",
   "id": "723f47ef-6d3c-4726-8436-76ea69e91bcb",
   "metadata": {},
   "source": [
    "# orneklem dağılım"
   ]
  },
  {
   "cell_type": "code",
   "execution_count": 11,
   "id": "7ed7d81b-8096-4edf-8192-fa331008ecd4",
   "metadata": {},
   "outputs": [],
   "source": [
    "np.random.seed(10)\n",
    "orneklem1 = np.random.choice(a = populasyon, size = 100)\n",
    "orneklem2 = np.random.choice(a = populasyon, size = 100)\n",
    "orneklem3 = np.random.choice(a = populasyon, size = 100)\n",
    "orneklem4 = np.random.choice(a = populasyon, size = 100)\n",
    "orneklem5 = np.random.choice(a = populasyon, size = 100)\n",
    "orneklem6 = np.random.choice(a = populasyon, size = 100)\n",
    "orneklem7 = np.random.choice(a = populasyon, size = 100)\n",
    "orneklem8 = np.random.choice(a = populasyon, size = 100)\n",
    "orneklem9 = np.random.choice(a = populasyon, size = 100)\n",
    "orneklem10 = np.random.choice(a = populasyon, size = 100)"
   ]
  },
  {
   "cell_type": "code",
   "execution_count": 12,
   "id": "2a9eb692-b2db-4c14-86c5-9a26ecf4559f",
   "metadata": {},
   "outputs": [
    {
     "data": {
      "text/plain": [
       "39.95399999999999"
      ]
     },
     "execution_count": 12,
     "metadata": {},
     "output_type": "execute_result"
    }
   ],
   "source": [
    "(orneklem1.mean() + orneklem2.mean() + orneklem3.mean() + orneklem4.mean() + orneklem5.mean() \n",
    "+ orneklem6.mean() + orneklem7.mean() + orneklem8.mean() + orneklem9.mean() + orneklem10.mean() )  / 10"
   ]
  },
  {
   "cell_type": "markdown",
   "id": "fe610b3a-d839-45e6-ae10-608608973bcd",
   "metadata": {},
   "source": [
    "# betimsel istatistik"
   ]
  },
  {
   "cell_type": "code",
   "execution_count": 13,
   "id": "3581952e-4b05-4918-9d46-ac48cff858e8",
   "metadata": {},
   "outputs": [],
   "source": [
    "import seaborn as sns"
   ]
  },
  {
   "cell_type": "code",
   "execution_count": 14,
   "id": "d3ff4671-ed87-42de-af4d-d12894124947",
   "metadata": {},
   "outputs": [],
   "source": [
    "tips = sns.load_dataset(\"tips\")"
   ]
  },
  {
   "cell_type": "code",
   "execution_count": 15,
   "id": "907b3502-72e3-4a9a-ad3a-593c29b61ca7",
   "metadata": {},
   "outputs": [],
   "source": [
    "df = tips.copy()"
   ]
  },
  {
   "cell_type": "code",
   "execution_count": 16,
   "id": "91707efd-7092-43fc-8498-29cf88fa34e2",
   "metadata": {},
   "outputs": [
    {
     "data": {
      "text/html": [
       "<div>\n",
       "<style scoped>\n",
       "    .dataframe tbody tr th:only-of-type {\n",
       "        vertical-align: middle;\n",
       "    }\n",
       "\n",
       "    .dataframe tbody tr th {\n",
       "        vertical-align: top;\n",
       "    }\n",
       "\n",
       "    .dataframe thead th {\n",
       "        text-align: right;\n",
       "    }\n",
       "</style>\n",
       "<table border=\"1\" class=\"dataframe\">\n",
       "  <thead>\n",
       "    <tr style=\"text-align: right;\">\n",
       "      <th></th>\n",
       "      <th>count</th>\n",
       "      <th>mean</th>\n",
       "      <th>std</th>\n",
       "      <th>min</th>\n",
       "      <th>25%</th>\n",
       "      <th>50%</th>\n",
       "      <th>75%</th>\n",
       "      <th>max</th>\n",
       "    </tr>\n",
       "  </thead>\n",
       "  <tbody>\n",
       "    <tr>\n",
       "      <th>total_bill</th>\n",
       "      <td>244.0</td>\n",
       "      <td>19.785943</td>\n",
       "      <td>8.902412</td>\n",
       "      <td>3.07</td>\n",
       "      <td>13.3475</td>\n",
       "      <td>17.795</td>\n",
       "      <td>24.1275</td>\n",
       "      <td>50.81</td>\n",
       "    </tr>\n",
       "    <tr>\n",
       "      <th>tip</th>\n",
       "      <td>244.0</td>\n",
       "      <td>2.998279</td>\n",
       "      <td>1.383638</td>\n",
       "      <td>1.00</td>\n",
       "      <td>2.0000</td>\n",
       "      <td>2.900</td>\n",
       "      <td>3.5625</td>\n",
       "      <td>10.00</td>\n",
       "    </tr>\n",
       "    <tr>\n",
       "      <th>size</th>\n",
       "      <td>244.0</td>\n",
       "      <td>2.569672</td>\n",
       "      <td>0.951100</td>\n",
       "      <td>1.00</td>\n",
       "      <td>2.0000</td>\n",
       "      <td>2.000</td>\n",
       "      <td>3.0000</td>\n",
       "      <td>6.00</td>\n",
       "    </tr>\n",
       "  </tbody>\n",
       "</table>\n",
       "</div>"
      ],
      "text/plain": [
       "            count       mean       std   min      25%     50%      75%    max\n",
       "total_bill  244.0  19.785943  8.902412  3.07  13.3475  17.795  24.1275  50.81\n",
       "tip         244.0   2.998279  1.383638  1.00   2.0000   2.900   3.5625  10.00\n",
       "size        244.0   2.569672  0.951100  1.00   2.0000   2.000   3.0000   6.00"
      ]
     },
     "execution_count": 16,
     "metadata": {},
     "output_type": "execute_result"
    }
   ],
   "source": [
    "df.describe().T"
   ]
  },
  {
   "cell_type": "code",
   "execution_count": 17,
   "id": "055e8b3a-ddce-4918-af33-d1c9ca8f9f6b",
   "metadata": {},
   "outputs": [
    {
     "data": {
      "text/html": [
       "<div>\n",
       "<style scoped>\n",
       "    .dataframe tbody tr th:only-of-type {\n",
       "        vertical-align: middle;\n",
       "    }\n",
       "\n",
       "    .dataframe tbody tr th {\n",
       "        vertical-align: top;\n",
       "    }\n",
       "\n",
       "    .dataframe thead th {\n",
       "        text-align: right;\n",
       "    }\n",
       "</style>\n",
       "<table border=\"1\" class=\"dataframe\">\n",
       "  <thead>\n",
       "    <tr style=\"text-align: right;\">\n",
       "      <th></th>\n",
       "      <th>total_bill</th>\n",
       "      <th>tip</th>\n",
       "      <th>sex</th>\n",
       "      <th>smoker</th>\n",
       "      <th>day</th>\n",
       "      <th>time</th>\n",
       "      <th>size</th>\n",
       "    </tr>\n",
       "  </thead>\n",
       "  <tbody>\n",
       "    <tr>\n",
       "      <th>0</th>\n",
       "      <td>16.99</td>\n",
       "      <td>1.01</td>\n",
       "      <td>Female</td>\n",
       "      <td>No</td>\n",
       "      <td>Sun</td>\n",
       "      <td>Dinner</td>\n",
       "      <td>2</td>\n",
       "    </tr>\n",
       "    <tr>\n",
       "      <th>1</th>\n",
       "      <td>10.34</td>\n",
       "      <td>1.66</td>\n",
       "      <td>Male</td>\n",
       "      <td>No</td>\n",
       "      <td>Sun</td>\n",
       "      <td>Dinner</td>\n",
       "      <td>3</td>\n",
       "    </tr>\n",
       "    <tr>\n",
       "      <th>2</th>\n",
       "      <td>21.01</td>\n",
       "      <td>3.50</td>\n",
       "      <td>Male</td>\n",
       "      <td>No</td>\n",
       "      <td>Sun</td>\n",
       "      <td>Dinner</td>\n",
       "      <td>3</td>\n",
       "    </tr>\n",
       "    <tr>\n",
       "      <th>3</th>\n",
       "      <td>23.68</td>\n",
       "      <td>3.31</td>\n",
       "      <td>Male</td>\n",
       "      <td>No</td>\n",
       "      <td>Sun</td>\n",
       "      <td>Dinner</td>\n",
       "      <td>2</td>\n",
       "    </tr>\n",
       "    <tr>\n",
       "      <th>4</th>\n",
       "      <td>24.59</td>\n",
       "      <td>3.61</td>\n",
       "      <td>Female</td>\n",
       "      <td>No</td>\n",
       "      <td>Sun</td>\n",
       "      <td>Dinner</td>\n",
       "      <td>4</td>\n",
       "    </tr>\n",
       "  </tbody>\n",
       "</table>\n",
       "</div>"
      ],
      "text/plain": [
       "   total_bill   tip     sex smoker  day    time  size\n",
       "0       16.99  1.01  Female     No  Sun  Dinner     2\n",
       "1       10.34  1.66    Male     No  Sun  Dinner     3\n",
       "2       21.01  3.50    Male     No  Sun  Dinner     3\n",
       "3       23.68  3.31    Male     No  Sun  Dinner     2\n",
       "4       24.59  3.61  Female     No  Sun  Dinner     4"
      ]
     },
     "execution_count": 17,
     "metadata": {},
     "output_type": "execute_result"
    }
   ],
   "source": [
    "df.head()"
   ]
  },
  {
   "cell_type": "code",
   "execution_count": 18,
   "id": "c1deb1c2-dd5e-42bf-95c9-a6b257d47588",
   "metadata": {},
   "outputs": [
    {
     "name": "stdout",
     "output_type": "stream",
     "text": [
      "Collecting researchpy\n",
      "  Downloading researchpy-0.3.2-py3-none-any.whl (15 kB)\n",
      "Requirement already satisfied: numpy in c:\\anaconda\\lib\\site-packages (from researchpy) (1.21.5)\n",
      "Requirement already satisfied: statsmodels in c:\\anaconda\\lib\\site-packages (from researchpy) (0.13.2)\n",
      "Requirement already satisfied: patsy in c:\\anaconda\\lib\\site-packages (from researchpy) (0.5.2)\n",
      "Requirement already satisfied: scipy in c:\\anaconda\\lib\\site-packages (from researchpy) (1.7.3)\n",
      "Requirement already satisfied: pandas in c:\\anaconda\\lib\\site-packages (from researchpy) (1.4.2)\n",
      "Requirement already satisfied: python-dateutil>=2.8.1 in c:\\anaconda\\lib\\site-packages (from pandas->researchpy) (2.8.2)\n",
      "Requirement already satisfied: pytz>=2020.1 in c:\\anaconda\\lib\\site-packages (from pandas->researchpy) (2021.3)\n",
      "Requirement already satisfied: six>=1.5 in c:\\anaconda\\lib\\site-packages (from python-dateutil>=2.8.1->pandas->researchpy) (1.16.0)\n",
      "Requirement already satisfied: packaging>=21.3 in c:\\anaconda\\lib\\site-packages (from statsmodels->researchpy) (21.3)\n",
      "Requirement already satisfied: pyparsing!=3.0.5,>=2.0.2 in c:\\anaconda\\lib\\site-packages (from packaging>=21.3->statsmodels->researchpy) (3.0.4)\n",
      "Installing collected packages: researchpy\n",
      "Successfully installed researchpy-0.3.2\n"
     ]
    }
   ],
   "source": [
    "!pip install researchpy "
   ]
  },
  {
   "cell_type": "code",
   "execution_count": 19,
   "id": "3b8be967-e34e-4376-8ccb-5f8cf1c3bde6",
   "metadata": {},
   "outputs": [],
   "source": [
    "import researchpy as rp"
   ]
  },
  {
   "cell_type": "code",
   "execution_count": 20,
   "id": "388d62a9-14d7-4a28-9859-052c52d36765",
   "metadata": {},
   "outputs": [
    {
     "name": "stdout",
     "output_type": "stream",
     "text": [
      "\n",
      "\n"
     ]
    },
    {
     "data": {
      "text/html": [
       "<div>\n",
       "<style scoped>\n",
       "    .dataframe tbody tr th:only-of-type {\n",
       "        vertical-align: middle;\n",
       "    }\n",
       "\n",
       "    .dataframe tbody tr th {\n",
       "        vertical-align: top;\n",
       "    }\n",
       "\n",
       "    .dataframe thead th {\n",
       "        text-align: right;\n",
       "    }\n",
       "</style>\n",
       "<table border=\"1\" class=\"dataframe\">\n",
       "  <thead>\n",
       "    <tr style=\"text-align: right;\">\n",
       "      <th></th>\n",
       "      <th>Variable</th>\n",
       "      <th>N</th>\n",
       "      <th>Mean</th>\n",
       "      <th>SD</th>\n",
       "      <th>SE</th>\n",
       "      <th>95% Conf.</th>\n",
       "      <th>Interval</th>\n",
       "    </tr>\n",
       "  </thead>\n",
       "  <tbody>\n",
       "    <tr>\n",
       "      <th>0</th>\n",
       "      <td>total_bill</td>\n",
       "      <td>244.0</td>\n",
       "      <td>19.7859</td>\n",
       "      <td>8.9024</td>\n",
       "      <td>0.5699</td>\n",
       "      <td>18.6633</td>\n",
       "      <td>20.9086</td>\n",
       "    </tr>\n",
       "    <tr>\n",
       "      <th>1</th>\n",
       "      <td>tip</td>\n",
       "      <td>244.0</td>\n",
       "      <td>2.9983</td>\n",
       "      <td>1.3836</td>\n",
       "      <td>0.0886</td>\n",
       "      <td>2.8238</td>\n",
       "      <td>3.1728</td>\n",
       "    </tr>\n",
       "    <tr>\n",
       "      <th>2</th>\n",
       "      <td>size</td>\n",
       "      <td>244.0</td>\n",
       "      <td>2.5697</td>\n",
       "      <td>0.9511</td>\n",
       "      <td>0.0609</td>\n",
       "      <td>2.4497</td>\n",
       "      <td>2.6896</td>\n",
       "    </tr>\n",
       "  </tbody>\n",
       "</table>\n",
       "</div>"
      ],
      "text/plain": [
       "     Variable      N     Mean      SD      SE  95% Conf.  Interval\n",
       "0  total_bill  244.0  19.7859  8.9024  0.5699    18.6633   20.9086\n",
       "1         tip  244.0   2.9983  1.3836  0.0886     2.8238    3.1728\n",
       "2        size  244.0   2.5697  0.9511  0.0609     2.4497    2.6896"
      ]
     },
     "execution_count": 20,
     "metadata": {},
     "output_type": "execute_result"
    }
   ],
   "source": [
    "rp.summary_cont(df[[\"total_bill\",\"tip\",\"size\"]])"
   ]
  },
  {
   "cell_type": "code",
   "execution_count": 21,
   "id": "09df4e8d-8690-4dc1-a5e8-1d37e9f5bc90",
   "metadata": {},
   "outputs": [
    {
     "data": {
      "text/html": [
       "<div>\n",
       "<style scoped>\n",
       "    .dataframe tbody tr th:only-of-type {\n",
       "        vertical-align: middle;\n",
       "    }\n",
       "\n",
       "    .dataframe tbody tr th {\n",
       "        vertical-align: top;\n",
       "    }\n",
       "\n",
       "    .dataframe thead th {\n",
       "        text-align: right;\n",
       "    }\n",
       "</style>\n",
       "<table border=\"1\" class=\"dataframe\">\n",
       "  <thead>\n",
       "    <tr style=\"text-align: right;\">\n",
       "      <th></th>\n",
       "      <th>Variable</th>\n",
       "      <th>Outcome</th>\n",
       "      <th>Count</th>\n",
       "      <th>Percent</th>\n",
       "    </tr>\n",
       "  </thead>\n",
       "  <tbody>\n",
       "    <tr>\n",
       "      <th>0</th>\n",
       "      <td>sex</td>\n",
       "      <td>Male</td>\n",
       "      <td>157</td>\n",
       "      <td>64.34</td>\n",
       "    </tr>\n",
       "    <tr>\n",
       "      <th>1</th>\n",
       "      <td></td>\n",
       "      <td>Female</td>\n",
       "      <td>87</td>\n",
       "      <td>35.66</td>\n",
       "    </tr>\n",
       "    <tr>\n",
       "      <th>2</th>\n",
       "      <td>smoker</td>\n",
       "      <td>No</td>\n",
       "      <td>151</td>\n",
       "      <td>61.89</td>\n",
       "    </tr>\n",
       "    <tr>\n",
       "      <th>3</th>\n",
       "      <td></td>\n",
       "      <td>Yes</td>\n",
       "      <td>93</td>\n",
       "      <td>38.11</td>\n",
       "    </tr>\n",
       "    <tr>\n",
       "      <th>4</th>\n",
       "      <td>day</td>\n",
       "      <td>Sat</td>\n",
       "      <td>87</td>\n",
       "      <td>35.66</td>\n",
       "    </tr>\n",
       "    <tr>\n",
       "      <th>5</th>\n",
       "      <td></td>\n",
       "      <td>Sun</td>\n",
       "      <td>76</td>\n",
       "      <td>31.15</td>\n",
       "    </tr>\n",
       "    <tr>\n",
       "      <th>6</th>\n",
       "      <td></td>\n",
       "      <td>Thur</td>\n",
       "      <td>62</td>\n",
       "      <td>25.41</td>\n",
       "    </tr>\n",
       "    <tr>\n",
       "      <th>7</th>\n",
       "      <td></td>\n",
       "      <td>Fri</td>\n",
       "      <td>19</td>\n",
       "      <td>7.79</td>\n",
       "    </tr>\n",
       "  </tbody>\n",
       "</table>\n",
       "</div>"
      ],
      "text/plain": [
       "  Variable Outcome  Count  Percent\n",
       "0      sex    Male    157    64.34\n",
       "1           Female     87    35.66\n",
       "2   smoker      No    151    61.89\n",
       "3              Yes     93    38.11\n",
       "4      day     Sat     87    35.66\n",
       "5              Sun     76    31.15\n",
       "6             Thur     62    25.41\n",
       "7              Fri     19     7.79"
      ]
     },
     "execution_count": 21,
     "metadata": {},
     "output_type": "execute_result"
    }
   ],
   "source": [
    "rp.summary_cat(df[[\"sex\",\"smoker\",\"day\"]])"
   ]
  },
  {
   "cell_type": "code",
   "execution_count": 22,
   "id": "df9b9f70-bf8a-4650-994c-175a5cb3ef04",
   "metadata": {},
   "outputs": [
    {
     "data": {
      "text/html": [
       "<div>\n",
       "<style scoped>\n",
       "    .dataframe tbody tr th:only-of-type {\n",
       "        vertical-align: middle;\n",
       "    }\n",
       "\n",
       "    .dataframe tbody tr th {\n",
       "        vertical-align: top;\n",
       "    }\n",
       "\n",
       "    .dataframe thead th {\n",
       "        text-align: right;\n",
       "    }\n",
       "</style>\n",
       "<table border=\"1\" class=\"dataframe\">\n",
       "  <thead>\n",
       "    <tr style=\"text-align: right;\">\n",
       "      <th></th>\n",
       "      <th>tip</th>\n",
       "      <th>total_bill</th>\n",
       "    </tr>\n",
       "  </thead>\n",
       "  <tbody>\n",
       "    <tr>\n",
       "      <th>tip</th>\n",
       "      <td>1.914455</td>\n",
       "      <td>8.323502</td>\n",
       "    </tr>\n",
       "    <tr>\n",
       "      <th>total_bill</th>\n",
       "      <td>8.323502</td>\n",
       "      <td>79.252939</td>\n",
       "    </tr>\n",
       "  </tbody>\n",
       "</table>\n",
       "</div>"
      ],
      "text/plain": [
       "                 tip  total_bill\n",
       "tip         1.914455    8.323502\n",
       "total_bill  8.323502   79.252939"
      ]
     },
     "execution_count": 22,
     "metadata": {},
     "output_type": "execute_result"
    }
   ],
   "source": [
    "df[[\"tip\",\"total_bill\"]].cov()"
   ]
  },
  {
   "cell_type": "code",
   "execution_count": 24,
   "id": "3e8c3357-e49c-4f40-823a-f8d4babb5f9e",
   "metadata": {},
   "outputs": [
    {
     "data": {
      "text/html": [
       "<div>\n",
       "<style scoped>\n",
       "    .dataframe tbody tr th:only-of-type {\n",
       "        vertical-align: middle;\n",
       "    }\n",
       "\n",
       "    .dataframe tbody tr th {\n",
       "        vertical-align: top;\n",
       "    }\n",
       "\n",
       "    .dataframe thead th {\n",
       "        text-align: right;\n",
       "    }\n",
       "</style>\n",
       "<table border=\"1\" class=\"dataframe\">\n",
       "  <thead>\n",
       "    <tr style=\"text-align: right;\">\n",
       "      <th></th>\n",
       "      <th>tip</th>\n",
       "      <th>total_bill</th>\n",
       "    </tr>\n",
       "  </thead>\n",
       "  <tbody>\n",
       "    <tr>\n",
       "      <th>tip</th>\n",
       "      <td>1.000000</td>\n",
       "      <td>0.675734</td>\n",
       "    </tr>\n",
       "    <tr>\n",
       "      <th>total_bill</th>\n",
       "      <td>0.675734</td>\n",
       "      <td>1.000000</td>\n",
       "    </tr>\n",
       "  </tbody>\n",
       "</table>\n",
       "</div>"
      ],
      "text/plain": [
       "                 tip  total_bill\n",
       "tip         1.000000    0.675734\n",
       "total_bill  0.675734    1.000000"
      ]
     },
     "execution_count": 24,
     "metadata": {},
     "output_type": "execute_result"
    }
   ],
   "source": [
    "df[[\"tip\",\"total_bill\"]].corr()"
   ]
  },
  {
   "cell_type": "markdown",
   "id": "9a2a7d8e-dde4-4768-9ff8-f77b51b9c5c6",
   "metadata": {},
   "source": [
    "# İŞ UYGULAMASI Açık artırma ortalama"
   ]
  },
  {
   "cell_type": "code",
   "execution_count": 2,
   "id": "a14f3814-127e-41b8-8807-01b7e70cd472",
   "metadata": {},
   "outputs": [],
   "source": [
    "import numpy as np\n",
    "fiyatlar = np.random.randint(10,110,1000)"
   ]
  },
  {
   "cell_type": "code",
   "execution_count": 3,
   "id": "1294fdc2-e7ac-4fe8-9451-2fa3865dd3fa",
   "metadata": {},
   "outputs": [
    {
     "data": {
      "text/plain": [
       "array([ 60,  27,  63,  62, 106,  22, 109,  13,  56,  39,  56,  58,  25,\n",
       "       104,  69,  83,  12,  11,  17,  22,  45,  47,  95, 104,  51,  51,\n",
       "        48,  99, 104,  96,  22,  60,  26,  52,  23,  76, 104,  27,  72,\n",
       "        93,  77, 105,  45,  12,  98,  33,  55,  77, 108,  43,  21,  42,\n",
       "        96,  33,  69, 103,  78,  48,  91,  69,  39,  89,  13,  14,  22,\n",
       "        20,  76,  81,  78,  40,  88,  49,  23,  19, 106,  46,  79, 105,\n",
       "        52,  21,  81,  11,  60,  26,  87,  62,  58,  47, 106,  54,  21,\n",
       "        24,  53, 105,  16,  84,  74,  19,  79,  74, 109,  96,  33,  28,\n",
       "        67,  99,  69,  78,  91,  65,  68, 109,  46,  70,  32, 106,  55,\n",
       "        75,  34, 108,  38,  96,  48,  24,  53,  55,  49,  68,  58,  52,\n",
       "        96,  63,  76,  56,  42, 100,  42,  11,  45,  39,  91,  65,  19,\n",
       "        20,  20,  67,  42,  39,  58,  13,  81,  48,  28,  62,  26,  40,\n",
       "        62,  97,  75,  10,  95,  61,  71,  85,  31,  77,  39,  36,  14,\n",
       "        91,  62,  72,  92,  76,  56,  59, 109,  79,  50,  61,  99,  36,\n",
       "        71,  33,  62,  56,  80,  84,  30,  36,  89,  96,  31, 100, 108,\n",
       "        10,  22,  67,  68,  86,  31,  11,  14,  47,  31,  28, 108,  10,\n",
       "        16,  12,  61,  37,  35, 100,  48,  57,  90,  66,  19,  41,  97,\n",
       "        18,  35,  22,  85,  69,  14,  17,  40,  73,  36,  50,  30,  23,\n",
       "        64,  77,  22,  77,  42,  33,  77,  87,  24,  37,  29,  38, 108,\n",
       "        21,  65,  64,  60,  15,  38,  22,  68, 100,  11,  76,  58,  56,\n",
       "        99,  85,  93,  45,  99,  67,  48,  21,  49,  26, 102,  51,  13,\n",
       "       104,  94,  40,  17, 105,  56,  74,  99,  61,  33,  23,  75,  60,\n",
       "        22,  44, 108,  72,  23,  46,  50,  66,  27,  83,  59,  22,  14,\n",
       "        46,  77,  74,  38,  82,  65,  52,  27,  49,  28,  13,  36,  95,\n",
       "        77,  46,  15,  79,  69,  37,  77,  31,  70,  26,  65,  45,  18,\n",
       "        86,  52,  18, 105, 109,  21,  94,  88,  69, 101,  40,  54,  54,\n",
       "        29,  41,  31,  72,  47,  23,  80,  87,  32,  13,  96,  13,  15,\n",
       "        58,  94,  98,  98,  15,  44,  59,  20,  22,  24,  57,  72,  59,\n",
       "        82,  48,  35,  85,  36,  27, 109,  82,  16,  82,  90,  89,  53,\n",
       "        42,  25,  88,  57,  64,  41,  57,  65,  48,  97,  12,  62,  44,\n",
       "        40,  60,  98,  55,  50,  97,  30,  12,  98,  83,  91,  81,  19,\n",
       "        13,  21,  55, 100,  59,  81, 109,  91,  31,  61,  46,  95, 108,\n",
       "        51, 101,  16,  71,  90,  61,  37,  65,  86,  89,  34,  35,  61,\n",
       "        32,  96,  80,  73,  77,  70,  85,  39,  63,  64,  28,  77,  10,\n",
       "        48, 106,  40,  42,  26,  93,  47,  56,  85,  27,  53, 100,  55,\n",
       "        16,  58,  32,  39,  50,  62,  94,  75,  51,  79,  70,  73, 102,\n",
       "        49,  25,  18,  59,  87,  27,  64,  26, 100,  52,  71,  47,  32,\n",
       "        89,  22, 107,  14,  74,  37,  90,  65,  16,  76,  62,  21,  73,\n",
       "       107,  28,  68,  36,  49,  12,  49,  96,  85,  61,  53,  95,  26,\n",
       "        63,  98,  52,  64,  17,  20,  56,  41, 102,  74,  45,  10,  32,\n",
       "       108,  18,  97,  83,  32,  54,  37,  55,  65,  99,  85,  80, 103,\n",
       "        72, 108, 107, 109,  38, 108, 104,  35,  27,  31,  83,  72,  58,\n",
       "        96, 107,  45,  24, 105,  88,  70,  20,  55,  10,  97,  13,  31,\n",
       "        84,  28,  27,  30, 103,  34,  13,  96,  77, 109,  38,  69,  95,\n",
       "        77,  78,  14,  91,  17, 102,  56,  79, 103,  75,  42,  56,  33,\n",
       "       102,  32,  26, 108,  81,  37,  50,  26,  47,  87,  30,  37,  52,\n",
       "        69,  84,  83,  30,  95,  37,  12,  60,  75,  48,  11,  90,  10,\n",
       "        99,  49,  64,  16,  95,  99,  69,  55,  41,  72,  41,  49,  12,\n",
       "       109,  93,  24,  25,  35,  37,  47,  69,  63,  49,  15, 105,  62,\n",
       "        44,  45,  15,  29,  57, 105,  26,  31,  70,  99,  60,  93, 105,\n",
       "        76, 107,  48,  47,  68,  78,  38,  71, 104,  14,  35,  22,  86,\n",
       "        93,  21,  61,  82,  63,  34,  52,  79, 107,  39,  28, 109,  17,\n",
       "        66,  46,  70,  40,  18,  41,  48,  15,  69, 105,  81,  98,  11,\n",
       "       100,  60,  42,  28,  23,  43,  46,  17,  87,  89,  96,  25, 104,\n",
       "        92,  96,  71,  99, 107,  32, 109,  95,  16,  20,  79,  70,  43,\n",
       "        51,  59,  96,  11,  16,  68,  79,  71,  16,  46,  76,  85,  58,\n",
       "        79,  12, 109,  33,  23,  14,  25, 105,  54,  81,  91,  67, 104,\n",
       "       107,  42,  29,  31,  57,  32,  38,  32,  34,  53,  11, 102,  84,\n",
       "        73,  83,  54,  40,  80,  77,  66,  33,  29,  55,  29,  71, 107,\n",
       "        64,  33,  10,  77,  73,  88,  15,  10,  59,  18,  27, 109,  99,\n",
       "        38,  83,  89,  90,  95,  43,  73,  94, 106,  17,  65,  65,  33,\n",
       "        45,  95,  28,  11,  21,  34,  12,  35, 105,  31,  54,  11,  50,\n",
       "       101,  79,  44,  23,  12,  58,  50,  79,  23,  23,  92,  14,  10,\n",
       "        70,  77,  71, 104, 105,  34,  37,  70,  87,  20,  55,  59,  32,\n",
       "        22,  55,  64,  67,  24,  77,  26,  36,  58,  51,  66,  32,  77,\n",
       "        27,  44,  33,  93,  10,  25,  95,  94,  88,  91,  54,  37,  87,\n",
       "        72,  62,  35, 104,  27,  26,  13,  60,  57,  24,  79,  67,  73,\n",
       "        21,  22,  81,  93,  40, 109, 103,  26,  73,  22,  61,  13,  13,\n",
       "        66,  61,  98,  38,  10,  75,  98,  14,  74,  22,  43,  43,  45,\n",
       "        48,  67,  64,  50, 109,  73,  32,  71,  45,  95,  74,  63,  54,\n",
       "        52,  20,  93,  90,  86,  30,  98,  97,  70,  24,  66,  50,  85,\n",
       "        24, 101,  53, 105,  61,  38,  65,  15,  13,  64,  12,  91,  76,\n",
       "        23,  37,  15,  87,  54,  25,  57,  66,  68,  26,  72,  21,  25,\n",
       "        56,  46,  67,  98,  25,  66,  97, 104,  97, 102,  37,  83,  48,\n",
       "        39,  71,  71, 109,  30,  42,  61,  71,  44,  79,  24,  89,  60,\n",
       "        98,  73,  22,  99,  68,  63,  82,  83,  46,  67,  35,  36, 106,\n",
       "        80,  24,  43,  77,  62,  95,  98,  53,  47,  70,  95,  97])"
      ]
     },
     "execution_count": 3,
     "metadata": {},
     "output_type": "execute_result"
    }
   ],
   "source": [
    "fiyatlar"
   ]
  },
  {
   "cell_type": "code",
   "execution_count": 4,
   "id": "b84ff1fd-79b9-4c4c-8206-72efa99f5076",
   "metadata": {},
   "outputs": [
    {
     "data": {
      "text/plain": [
       "58.145"
      ]
     },
     "execution_count": 4,
     "metadata": {},
     "output_type": "execute_result"
    }
   ],
   "source": [
    "fiyatlar.mean()"
   ]
  },
  {
   "cell_type": "code",
   "execution_count": 5,
   "id": "c4341cec-43b7-4dd6-ae12-5496469626c4",
   "metadata": {},
   "outputs": [],
   "source": [
    "import statsmodels.stats.api as sms"
   ]
  },
  {
   "cell_type": "code",
   "execution_count": 6,
   "id": "330dc84c-0113-48f1-8d71-1b53b58c26c1",
   "metadata": {},
   "outputs": [
    {
     "data": {
      "text/plain": [
       "(56.33925477174395, 59.950745228256054)"
      ]
     },
     "execution_count": 6,
     "metadata": {},
     "output_type": "execute_result"
    }
   ],
   "source": [
    "sms.DescrStatsW(fiyatlar).tconfint_mean()"
   ]
  },
  {
   "cell_type": "markdown",
   "id": "7291749e-7cc4-4f8c-b9a5-a8fb596bff45",
   "metadata": {},
   "source": [
    "# bernoulli dağılımı"
   ]
  },
  {
   "cell_type": "markdown",
   "id": "a59d46ec-696a-4558-aa87-e0b8ff6cc09d",
   "metadata": {},
   "source": [
    "${\\displaystyle f(k;p)=p^{k}(1-p)^{1-k}\\quad {\\text{for }}k\\in \\{0,1\\}}$\n",
    "\n",
    "\n",
    "${\\displaystyle \\operatorname {E} \\left(X\\right)=p}$\n",
    "\n",
    "$\\operatorname {Var} [X]=pq=p(1-p)$"
   ]
  },
  {
   "cell_type": "code",
   "execution_count": 2,
   "id": "49b2f914-aca5-4410-bab4-b84c499d7599",
   "metadata": {},
   "outputs": [],
   "source": [
    "from scipy.stats import bernoulli"
   ]
  },
  {
   "cell_type": "code",
   "execution_count": 3,
   "id": "ca453ae4-07da-421b-8dac-589167ded1c1",
   "metadata": {},
   "outputs": [],
   "source": [
    "p = 0.6"
   ]
  },
  {
   "cell_type": "code",
   "execution_count": 5,
   "id": "a29d36ef-aadd-474b-b1b2-f5a0f9603402",
   "metadata": {},
   "outputs": [
    {
     "data": {
      "text/plain": [
       "0.6"
      ]
     },
     "execution_count": 5,
     "metadata": {},
     "output_type": "execute_result"
    }
   ],
   "source": [
    "rv = bernoulli(p)\n",
    "rv.pmf(k = 1)"
   ]
  },
  {
   "cell_type": "markdown",
   "id": "e595acd3-5d14-4278-992d-4a65e7ea1a92",
   "metadata": {},
   "source": [
    "# Büyük Sayılar Yasası"
   ]
  },
  {
   "cell_type": "code",
   "execution_count": 6,
   "id": "76ed3a3d-e293-43a9-af3f-b50cc5f92ccb",
   "metadata": {},
   "outputs": [
    {
     "name": "stdout",
     "output_type": "stream",
     "text": [
      "Atış Sayısı: 2 --- Yazı Olasılığı: 50.00\n",
      "Atış Sayısı: 4 --- Yazı Olasılığı: 0.00\n",
      "Atış Sayısı: 8 --- Yazı Olasılığı: 62.50\n",
      "Atış Sayısı: 16 --- Yazı Olasılığı: 43.75\n",
      "Atış Sayısı: 32 --- Yazı Olasılığı: 46.88\n",
      "Atış Sayısı: 64 --- Yazı Olasılığı: 56.25\n",
      "Atış Sayısı: 128 --- Yazı Olasılığı: 50.78\n",
      "Atış Sayısı: 256 --- Yazı Olasılığı: 52.73\n",
      "Atış Sayısı: 512 --- Yazı Olasılığı: 52.93\n",
      "Atış Sayısı: 1024 --- Yazı Olasılığı: 50.20\n",
      "Atış Sayısı: 2048 --- Yazı Olasılığı: 48.58\n",
      "Atış Sayısı: 4096 --- Yazı Olasılığı: 49.49\n",
      "Atış Sayısı: 8192 --- Yazı Olasılığı: 49.58\n",
      "Atış Sayısı: 16384 --- Yazı Olasılığı: 49.96\n",
      "Atış Sayısı: 32768 --- Yazı Olasılığı: 50.00\n",
      "Atış Sayısı: 65536 --- Yazı Olasılığı: 49.68\n",
      "Atış Sayısı: 131072 --- Yazı Olasılığı: 49.97\n",
      "Atış Sayısı: 262144 --- Yazı Olasılığı: 50.13\n",
      "Atış Sayısı: 524288 --- Yazı Olasılığı: 50.01\n",
      "Atış Sayısı: 1048576 --- Yazı Olasılığı: 50.09\n"
     ]
    }
   ],
   "source": [
    "import numpy as np\n",
    "rng = np.random.RandomState(123)\n",
    "for i in np.arange(1,21):\n",
    "    deney_sayisi = 2**i\n",
    "    yazi_turalar = rng.randint(0, 2, size = deney_sayisi)\n",
    "    yazi_olasiliklari = np.mean(yazi_turalar)\n",
    "    print(\"Atış Sayısı:\",deney_sayisi,\"---\",'Yazı Olasılığı: %.2f' % (yazi_olasiliklari * 100))"
   ]
  },
  {
   "cell_type": "markdown",
   "id": "d5a8fff2-1e2f-4201-b86a-afe70d05ecf2",
   "metadata": {},
   "source": [
    "# iş uygulaması reklama tıklama optimizasyonu"
   ]
  },
  {
   "cell_type": "code",
   "execution_count": 7,
   "id": "df118250-1c44-4892-8a07-87efe66d73d9",
   "metadata": {},
   "outputs": [],
   "source": [
    "from scipy.stats import binom"
   ]
  },
  {
   "cell_type": "code",
   "execution_count": 8,
   "id": "173eb611-f8e8-4e46-84eb-79db119c58b2",
   "metadata": {},
   "outputs": [
    {
     "name": "stdout",
     "output_type": "stream",
     "text": [
      "0.36972963764972666\n",
      "0.002897787123761478\n",
      "7.006035693977194e-08\n"
     ]
    }
   ],
   "source": [
    "p = 0.01\n",
    "n = 100\n",
    "rv = binom(n,p)\n",
    "print(rv.pmf(1))\n",
    "print(rv.pmf(5))\n",
    "print(rv.pmf(10))"
   ]
  },
  {
   "cell_type": "markdown",
   "id": "93b9c5e9-d3af-4ffa-ad02-c9d04c972021",
   "metadata": {},
   "source": [
    "# iş uygulaması hatalı ilan giriş (poisson)"
   ]
  },
  {
   "cell_type": "code",
   "execution_count": 9,
   "id": "f6afad92-bed0-4cf9-93b1-336d0f30325c",
   "metadata": {},
   "outputs": [],
   "source": [
    "from scipy.stats import poisson"
   ]
  },
  {
   "cell_type": "code",
   "execution_count": 10,
   "id": "3187f6e3-2243-4d9d-9ffc-119882f0085c",
   "metadata": {},
   "outputs": [],
   "source": [
    "lm = 0.1"
   ]
  },
  {
   "cell_type": "code",
   "execution_count": 22,
   "id": "0736e450-a688-4bc7-9146-d83cd4ed1208",
   "metadata": {},
   "outputs": [],
   "source": [
    "rv = poisson(mu = lm)"
   ]
  },
  {
   "cell_type": "code",
   "execution_count": 12,
   "id": "96233518-fdef-430c-ba33-79ceea84207e",
   "metadata": {},
   "outputs": [
    {
     "data": {
      "text/plain": [
       "<scipy.stats._distn_infrastructure.rv_frozen at 0x29a1810a520>"
      ]
     },
     "execution_count": 12,
     "metadata": {},
     "output_type": "execute_result"
    }
   ],
   "source": [
    "rv"
   ]
  },
  {
   "cell_type": "code",
   "execution_count": 24,
   "id": "68e76433-9918-440b-bdf8-2bec70706197",
   "metadata": {},
   "outputs": [
    {
     "name": "stdout",
     "output_type": "stream",
     "text": [
      "0.00015080623633932676\n",
      "7.54031181696634e-08\n"
     ]
    }
   ],
   "source": [
    "rv.pmf(0)\n",
    "print(rv.pmf(3))\n",
    "print(rv.pmf(5))"
   ]
  },
  {
   "cell_type": "code",
   "execution_count": 16,
   "id": "531da1ce-f26b-4d99-b7d7-41b3c7272701",
   "metadata": {},
   "outputs": [
    {
     "data": {
      "text/plain": [
       "\u001b[1;31mSignature:\u001b[0m       \u001b[0mpoisson\u001b[0m\u001b[1;33m(\u001b[0m\u001b[1;33m*\u001b[0m\u001b[0margs\u001b[0m\u001b[1;33m,\u001b[0m \u001b[1;33m**\u001b[0m\u001b[0mkwds\u001b[0m\u001b[1;33m)\u001b[0m\u001b[1;33m\u001b[0m\u001b[1;33m\u001b[0m\u001b[0m\n",
       "\u001b[1;31mType:\u001b[0m            poisson_gen\n",
       "\u001b[1;31mString form:\u001b[0m     <scipy.stats._discrete_distns.poisson_gen object at 0x0000029A17F8A760>\n",
       "\u001b[1;31mFile:\u001b[0m            c:\\anaconda\\lib\\site-packages\\scipy\\stats\\_discrete_distns.py\n",
       "\u001b[1;31mDocstring:\u001b[0m      \n",
       "A Poisson discrete random variable.\n",
       "\n",
       "As an instance of the `rv_discrete` class, `poisson` object inherits from it\n",
       "a collection of generic methods (see below for the full list),\n",
       "and completes them with details specific for this particular distribution.\n",
       "\n",
       "Methods\n",
       "-------\n",
       "rvs(mu, loc=0, size=1, random_state=None)\n",
       "    Random variates.\n",
       "pmf(k, mu, loc=0)\n",
       "    Probability mass function.\n",
       "logpmf(k, mu, loc=0)\n",
       "    Log of the probability mass function.\n",
       "cdf(k, mu, loc=0)\n",
       "    Cumulative distribution function.\n",
       "logcdf(k, mu, loc=0)\n",
       "    Log of the cumulative distribution function.\n",
       "sf(k, mu, loc=0)\n",
       "    Survival function  (also defined as ``1 - cdf``, but `sf` is sometimes more accurate).\n",
       "logsf(k, mu, loc=0)\n",
       "    Log of the survival function.\n",
       "ppf(q, mu, loc=0)\n",
       "    Percent point function (inverse of ``cdf`` --- percentiles).\n",
       "isf(q, mu, loc=0)\n",
       "    Inverse survival function (inverse of ``sf``).\n",
       "stats(mu, loc=0, moments='mv')\n",
       "    Mean('m'), variance('v'), skew('s'), and/or kurtosis('k').\n",
       "entropy(mu, loc=0)\n",
       "    (Differential) entropy of the RV.\n",
       "expect(func, args=(mu,), loc=0, lb=None, ub=None, conditional=False)\n",
       "    Expected value of a function (of one argument) with respect to the distribution.\n",
       "median(mu, loc=0)\n",
       "    Median of the distribution.\n",
       "mean(mu, loc=0)\n",
       "    Mean of the distribution.\n",
       "var(mu, loc=0)\n",
       "    Variance of the distribution.\n",
       "std(mu, loc=0)\n",
       "    Standard deviation of the distribution.\n",
       "interval(alpha, mu, loc=0)\n",
       "    Endpoints of the range that contains fraction alpha [0, 1] of the\n",
       "    distribution\n",
       "\n",
       "Notes\n",
       "-----\n",
       "The probability mass function for `poisson` is:\n",
       "\n",
       ".. math::\n",
       "\n",
       "    f(k) = \\exp(-\\mu) \\frac{\\mu^k}{k!}\n",
       "\n",
       "for :math:`k \\ge 0`.\n",
       "\n",
       "`poisson` takes :math:`\\mu \\geq 0` as shape parameter.\n",
       "When :math:`\\mu = 0`, the ``pmf`` method\n",
       "returns ``1.0`` at quantile :math:`k = 0`.\n",
       "\n",
       "The probability mass function above is defined in the \"standardized\" form.\n",
       "To shift distribution use the ``loc`` parameter.\n",
       "Specifically, ``poisson.pmf(k, mu, loc)`` is identically\n",
       "equivalent to ``poisson.pmf(k - loc, mu)``.\n",
       "\n",
       "Examples\n",
       "--------\n",
       ">>> from scipy.stats import poisson\n",
       ">>> import matplotlib.pyplot as plt\n",
       ">>> fig, ax = plt.subplots(1, 1)\n",
       "\n",
       "Calculate the first four moments:\n",
       "\n",
       ">>> mu = 0.6\n",
       ">>> mean, var, skew, kurt = poisson.stats(mu, moments='mvsk')\n",
       "\n",
       "Display the probability mass function (``pmf``):\n",
       "\n",
       ">>> x = np.arange(poisson.ppf(0.01, mu),\n",
       "...               poisson.ppf(0.99, mu))\n",
       ">>> ax.plot(x, poisson.pmf(x, mu), 'bo', ms=8, label='poisson pmf')\n",
       ">>> ax.vlines(x, 0, poisson.pmf(x, mu), colors='b', lw=5, alpha=0.5)\n",
       "\n",
       "Alternatively, the distribution object can be called (as a function)\n",
       "to fix the shape and location. This returns a \"frozen\" RV object holding\n",
       "the given parameters fixed.\n",
       "\n",
       "Freeze the distribution and display the frozen ``pmf``:\n",
       "\n",
       ">>> rv = poisson(mu)\n",
       ">>> ax.vlines(x, 0, rv.pmf(x), colors='k', linestyles='-', lw=1,\n",
       "...         label='frozen pmf')\n",
       ">>> ax.legend(loc='best', frameon=False)\n",
       ">>> plt.show()\n",
       "\n",
       "Check accuracy of ``cdf`` and ``ppf``:\n",
       "\n",
       ">>> prob = poisson.cdf(x, mu)\n",
       ">>> np.allclose(x, poisson.ppf(prob, mu))\n",
       "True\n",
       "\n",
       "Generate random numbers:\n",
       "\n",
       ">>> r = poisson.rvs(mu, size=1000)\n",
       "\u001b[1;31mClass docstring:\u001b[0m\n",
       "A Poisson discrete random variable.\n",
       "\n",
       "%(before_notes)s\n",
       "\n",
       "Notes\n",
       "-----\n",
       "The probability mass function for `poisson` is:\n",
       "\n",
       ".. math::\n",
       "\n",
       "    f(k) = \\exp(-\\mu) \\frac{\\mu^k}{k!}\n",
       "\n",
       "for :math:`k \\ge 0`.\n",
       "\n",
       "`poisson` takes :math:`\\mu \\geq 0` as shape parameter.\n",
       "When :math:`\\mu = 0`, the ``pmf`` method\n",
       "returns ``1.0`` at quantile :math:`k = 0`.\n",
       "\n",
       "%(after_notes)s\n",
       "\n",
       "%(example)s\n",
       "\u001b[1;31mCall docstring:\u001b[0m \n",
       "Freeze the distribution for the given arguments.\n",
       "\n",
       "Parameters\n",
       "----------\n",
       "arg1, arg2, arg3,... : array_like\n",
       "    The shape parameter(s) for the distribution.  Should include all\n",
       "    the non-optional arguments, may include ``loc`` and ``scale``.\n",
       "\n",
       "Returns\n",
       "-------\n",
       "rv_frozen : rv_frozen instance\n",
       "    The frozen distribution.\n"
      ]
     },
     "metadata": {},
     "output_type": "display_data"
    }
   ],
   "source": [
    "?poisson"
   ]
  },
  {
   "cell_type": "markdown",
   "id": "3d076d44-0746-42e2-a629-06b8ca5f46fc",
   "metadata": {},
   "source": [
    "# ürün satış olasılıkları hesaplanması normal dağılım"
   ]
  },
  {
   "cell_type": "code",
   "execution_count": 3,
   "id": "041820cb-f275-48a5-bde6-19bb5a4df732",
   "metadata": {},
   "outputs": [],
   "source": [
    "from scipy.stats import norm"
   ]
  },
  {
   "cell_type": "code",
   "execution_count": 4,
   "id": "44ecad2a-36a7-41da-9e58-497aff50bca8",
   "metadata": {},
   "outputs": [
    {
     "data": {
      "text/plain": [
       "0.02275013194817921"
      ]
     },
     "execution_count": 4,
     "metadata": {},
     "output_type": "execute_result"
    }
   ],
   "source": [
    "1-norm.cdf(90,80,5)"
   ]
  },
  {
   "cell_type": "code",
   "execution_count": 5,
   "id": "c0f6ff40-fc61-4baf-98fb-5ad7b10d80c9",
   "metadata": {},
   "outputs": [
    {
     "data": {
      "text/plain": [
       "0.9772498680518208"
      ]
     },
     "execution_count": 5,
     "metadata": {},
     "output_type": "execute_result"
    }
   ],
   "source": [
    "1-norm.cdf(70,80,5)"
   ]
  },
  {
   "cell_type": "code",
   "execution_count": 7,
   "id": "34f702df-1029-4c21-9336-87d960e9dfcb",
   "metadata": {},
   "outputs": [
    {
     "data": {
      "text/plain": [
       "0.08075665923377107"
      ]
     },
     "execution_count": 7,
     "metadata": {},
     "output_type": "execute_result"
    }
   ],
   "source": [
    "norm.cdf(73,80,5)"
   ]
  },
  {
   "cell_type": "code",
   "execution_count": 8,
   "id": "fa5af121-7eea-42c3-b7ac-516b054de87b",
   "metadata": {},
   "outputs": [
    {
     "data": {
      "text/plain": [
       "0.13590512198327787"
      ]
     },
     "execution_count": 8,
     "metadata": {},
     "output_type": "execute_result"
    }
   ],
   "source": [
    "norm.cdf(90,80,5)-norm.cdf(85,80,5)"
   ]
  },
  {
   "cell_type": "markdown",
   "id": "ea1daf0c-478a-4f70-938b-79823a9096fc",
   "metadata": {},
   "source": [
    "# Tek Örneklem T Testi\n",
    "\n",
    "Örnek ortalamasına ilişkin test yapmak için kullanılır.\n",
    "\n",
    "**Hipotezler:**\n",
    "\n",
    "<d><i>H</i><sub>0</sub>: <i>μ</i> = <i>50</i></d>   \n",
    "<d><i>H</i><sub>1</sub>: <i>μ</i> ≠ <i>50</i></d><br><br>\n",
    "\n",
    "<d><i>H</i><sub>0</sub>: <i>μ</i> <= <i>50</i></d><br>\n",
    "<d><i>H</i><sub>1</sub>: <i>μ</i> > <i>50</i></d><br><br>\n",
    "\n",
    "<d><i>H</i><sub>0</sub>: <i>μ</i> >= <i>50</i></d><br>\n",
    "<d><i>H</i><sub>1</sub>: <i>μ</i> < <i>50</i></d><br><br>\n",
    "\n",
    "\n",
    "\n",
    "\n",
    "<table></table>\n",
    "\n",
    "**Test İstatistiği:**\n",
    "\n",
    "${\\displaystyle t={\\frac {{\\bar {x}}-\\mu _{0}}{\\frac {s}{\\sqrt {n}}}}}$\n"
   ]
  },
  {
   "cell_type": "code",
   "execution_count": 9,
   "id": "3cec0a31-182a-457b-ac7f-7a29999f536a",
   "metadata": {},
   "outputs": [],
   "source": [
    "import numpy as np\n",
    "\n",
    "olcumler = np.array([17, 160, 234, 149, 145, 107, 197, 75, 201, 225, 211, 119, \n",
    "              157, 145, 127, 244, 163, 114, 145,  65, 112, 185, 202, 146,\n",
    "              203, 224, 203, 114, 188, 156, 187, 154, 177, 95, 165, 50, 110, \n",
    "              216, 138, 151, 166, 135, 155, 84, 251, 173, 131, 207, 121, 120])"
   ]
  },
  {
   "cell_type": "code",
   "execution_count": 10,
   "id": "3cc48e0d-dbbc-427f-a403-29bb8c585833",
   "metadata": {},
   "outputs": [],
   "source": [
    "from scipy.stats import stats"
   ]
  },
  {
   "cell_type": "code",
   "execution_count": 11,
   "id": "5c7d8c82-91a1-4860-89c4-d5d717714886",
   "metadata": {},
   "outputs": [
    {
     "data": {
      "text/plain": [
       "DescribeResult(nobs=50, minmax=(17, 251), mean=154.38, variance=2578.0363265306123, skewness=-0.32398897278694483, kurtosis=-0.05849823498415985)"
      ]
     },
     "execution_count": 11,
     "metadata": {},
     "output_type": "execute_result"
    }
   ],
   "source": [
    "stats.describe(olcumler)"
   ]
  },
  {
   "cell_type": "markdown",
   "id": "c11c33f3-6004-42bf-ae05-bd88e88664d9",
   "metadata": {},
   "source": [
    "# varsayımlar"
   ]
  },
  {
   "cell_type": "code",
   "execution_count": 14,
   "id": "f3c245ac-2901-4098-8bc7-948da0ad2af7",
   "metadata": {},
   "outputs": [
    {
     "data": {
      "image/png": "[encoded data removed]",
      "text/plain": [
       "<Figure size 432x288 with 1 Axes>"
      ]
     },
     "metadata": {
      "needs_background": "light"
     },
     "output_type": "display_data"
    }
   ],
   "source": [
    "import pandas as pd\n",
    "pd.DataFrame(olcumler).plot.hist();"
   ]
  },
  {
   "cell_type": "code",
   "execution_count": 18,
   "id": "28f98e71-6765-4de8-80a1-8ca93671f471",
   "metadata": {},
   "outputs": [
    {
     "ename": "AttributeError",
     "evalue": "module 'scipy.stats.stats' has no attribute 'probplot'",
     "output_type": "error",
     "traceback": [
      "\u001b[1;31m---------------------------------------------------------------------------\u001b[0m",
      "\u001b[1;31mAttributeError\u001b[0m                            Traceback (most recent call last)",
      "Input \u001b[1;32mIn [18]\u001b[0m, in \u001b[0;36m<cell line: 4>\u001b[1;34m()\u001b[0m\n\u001b[0;32m      2\u001b[0m \u001b[38;5;28;01mimport\u001b[39;00m \u001b[38;5;21;01mnumpy\u001b[39;00m \u001b[38;5;28;01mas\u001b[39;00m \u001b[38;5;21;01mnp\u001b[39;00m\n\u001b[0;32m      3\u001b[0m \u001b[38;5;28;01mimport\u001b[39;00m \u001b[38;5;21;01mscipy\u001b[39;00m\u001b[38;5;21;01m.\u001b[39;00m\u001b[38;5;21;01mstats\u001b[39;00m\n\u001b[1;32m----> 4\u001b[0m \u001b[43mstats\u001b[49m\u001b[38;5;241;43m.\u001b[39;49m\u001b[43mprobplot\u001b[49m(olcumler, dist\u001b[38;5;241m=\u001b[39m\u001b[38;5;124m\"\u001b[39m\u001b[38;5;124mnorm\u001b[39m\u001b[38;5;124m\"\u001b[39m, plot\u001b[38;5;241m=\u001b[39mpylab)\n\u001b[0;32m      5\u001b[0m pylab\u001b[38;5;241m.\u001b[39mshow()\n",
      "\u001b[1;31mAttributeError\u001b[0m: module 'scipy.stats.stats' has no attribute 'probplot'"
     ]
    }
   ],
   "source": [
    "import pylab\n",
    "import numpy as np\n",
    "import scipy.stats\n",
    "stats.probplot(olcumler, dist=\"norm\", plot=pylab)\n",
    "pylab.show()"
   ]
  },
  {
   "cell_type": "markdown",
   "id": "9c3bc17a-2e13-479b-9a80-8b902585b44f",
   "metadata": {},
   "source": [
    "## Shapiro-Wilks Testi\n",
    "\n",
    "H0: Örnek dağılımı ile teorik normal dağılım arasında ist. ol. anl. bir fark. yoktur\n",
    "\n",
    "H1: ... fark vardır"
   ]
  },
  {
   "cell_type": "code",
   "execution_count": 19,
   "id": "8aaa6965-6803-48de-8fba-a963c11cedeb",
   "metadata": {},
   "outputs": [],
   "source": [
    "from scipy.stats import shapiro"
   ]
  },
  {
   "cell_type": "code",
   "execution_count": 20,
   "id": "94cff751-ef0a-4803-abfd-d6bb50b7fad9",
   "metadata": {},
   "outputs": [
    {
     "data": {
      "text/plain": [
       "ShapiroResult(statistic=0.9853105545043945, pvalue=0.7848747968673706)"
      ]
     },
     "execution_count": 20,
     "metadata": {},
     "output_type": "execute_result"
    }
   ],
   "source": [
    "shapiro(olcumler)"
   ]
  },
  {
   "cell_type": "markdown",
   "id": "c40135ec-7699-4501-8c7d-29189c79723c",
   "metadata": {},
   "source": [
    "# hipotez testi yap"
   ]
  },
  {
   "cell_type": "code",
   "execution_count": 21,
   "id": "2c65b8f9-a5f4-45e3-90ce-8c3b3120b8c9",
   "metadata": {},
   "outputs": [
    {
     "data": {
      "text/plain": [
       "Ttest_1sampResult(statistic=-2.1753117985877966, pvalue=0.034460415195071446)"
      ]
     },
     "execution_count": 21,
     "metadata": {},
     "output_type": "execute_result"
    }
   ],
   "source": [
    "stats.ttest_1samp(olcumler, popmean = 170)"
   ]
  },
  {
   "cell_type": "markdown",
   "id": "7cf9607e-1da5-4404-a6ed-a57b8387133d",
   "metadata": {},
   "source": [
    "# nonparametrik tek örneklem testi"
   ]
  },
  {
   "cell_type": "code",
   "execution_count": 22,
   "id": "6ccb548b-e81c-4902-b6a3-afcfa215acc4",
   "metadata": {},
   "outputs": [],
   "source": [
    "from statsmodels.stats.descriptivestats import sign_test"
   ]
  },
  {
   "cell_type": "code",
   "execution_count": 23,
   "id": "15e47552-f850-4391-b626-4adbe1943be2",
   "metadata": {},
   "outputs": [
    {
     "data": {
      "text/plain": [
       "(-7.0, 0.06490864707227217)"
      ]
     },
     "execution_count": 23,
     "metadata": {},
     "output_type": "execute_result"
    }
   ],
   "source": [
    "sign_test(olcumler,170)"
   ]
  },
  {
   "cell_type": "markdown",
   "id": "acf9f111-ed61-4a27-bb3c-fa8d51d2a64b",
   "metadata": {},
   "source": [
    "# tek örneklem oran tesit"
   ]
  },
  {
   "cell_type": "code",
   "execution_count": 25,
   "id": "fc259bf4-6d62-498b-83d5-0243ba1b2aeb",
   "metadata": {},
   "outputs": [],
   "source": [
    "from statsmodels.stats.proportion import proportions_ztest"
   ]
  },
  {
   "cell_type": "code",
   "execution_count": 26,
   "id": "b1b9ab04-42fd-4583-a761-922590459f4b",
   "metadata": {},
   "outputs": [],
   "source": [
    "b = 40\n",
    "nobs = 500\n",
    "value = 0.125"
   ]
  },
  {
   "cell_type": "code",
   "execution_count": 27,
   "id": "46c74d6d-fe02-44aa-a279-ea2250f06c95",
   "metadata": {},
   "outputs": [
    {
     "data": {
      "text/plain": [
       "(-3.7090151628513017, 0.0002080669689845979)"
      ]
     },
     "execution_count": 27,
     "metadata": {},
     "output_type": "execute_result"
    }
   ],
   "source": [
    "proportions_ztest(b,nobs,value)"
   ]
  },
  {
   "cell_type": "code",
   "execution_count": null,
   "id": "07d9202a-031d-41fd-800c-e970d0cafe5e",
   "metadata": {},
   "outputs": [],
   "source": []
  }
 ],
 "metadata": {
  "kernelspec": {
   "display_name": "Python 3 (ipykernel)",
   "language": "python",
   "name": "python3"
  },
  "language_info": {
   "codemirror_mode": {
    "name": "ipython",
    "version": 3
   },
   "file_extension": ".py",
   "mimetype": "text/x-python",
   "name": "python",
   "nbconvert_exporter": "python",
   "pygments_lexer": "ipython3",
   "version": "3.9.12"
  }
 },
 "nbformat": 4,
 "nbformat_minor": 5
}

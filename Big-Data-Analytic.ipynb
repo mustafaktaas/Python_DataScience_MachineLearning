{
 "cells": [
  {
   "cell_type": "markdown",
   "id": "c256fa9e-76f8-4f52-91d6-f2ab301d8010",
   "metadata": {},
   "source": [
    "# Big Data Analytic"
   ]
  },
  {
   "cell_type": "code",
   "execution_count": null,
   "id": "a3ee1f88-f14e-4a53-b19b-cae1c043a1d3",
   "metadata": {},
   "outputs": [],
   "source": []
  }
 ],
 "metadata": {
  "kernelspec": {
   "display_name": "Python 3 (ipykernel)",
   "language": "python",
   "name": "python3"
  },
  "language_info": {
   "codemirror_mode": {
    "name": "ipython",
    "version": 3
   },
   "file_extension": ".py",
   "mimetype": "text/x-python",
   "name": "python",
   "nbconvert_exporter": "python",
   "pygments_lexer": "ipython3",
   "version": "3.9.12"
  }
 },
 "nbformat": 4,
 "nbformat_minor": 5
}

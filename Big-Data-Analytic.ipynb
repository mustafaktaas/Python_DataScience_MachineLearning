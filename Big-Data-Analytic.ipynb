{
 "cells": [
  {
   "cell_type": "markdown",
   "id": "c256fa9e-76f8-4f52-91d6-f2ab301d8010",
   "metadata": {},
   "source": [
    "# Big Data Analytic"
   ]
  },
  {
   "cell_type": "code",
   "execution_count": null,
   "id": "c0d54f10-5cfe-488b-b198-7fc668260665",
   "metadata": {},
   "outputs": [],
   "source": [
    "from warnings import filterwarnings\n",
    "filterwarnings('ignore')"
   ]
  },
  {
   "cell_type": "code",
   "execution_count": null,
   "id": "1b048259-211d-4940-9cc1-b02d76eb20e7",
   "metadata": {},
   "outputs": [],
   "source": [
    "!pip install findspark"
   ]
  },
  {
   "cell_type": "code",
   "execution_count": null,
   "id": "a274a95f-be74-428f-b39e-42fc408b51e2",
   "metadata": {},
   "outputs": [],
   "source": [
    "import pyspark\n",
    "from pyspark import SparkContext"
   ]
  },
  {
   "cell_type": "code",
   "execution_count": null,
   "id": "5ade8092-49e3-44cf-8532-98a0410c05c2",
   "metadata": {},
   "outputs": [],
   "source": [
    "import findspark\n",
    "findspark.init(\"/Users/mvahit/spark/spark-2.4.2-bin-hadoop2.7\")"
   ]
  },
  {
   "cell_type": "code",
   "execution_count": null,
   "id": "47c7d55f-ff90-4975-bdd6-3d96b0c06cb8",
   "metadata": {},
   "outputs": [],
   "source": [
    "import pyspark\n",
    "from pyspark import SparkContext"
   ]
  },
  {
   "cell_type": "markdown",
   "id": "367e9dd2-9220-49af-84f4-ba671fffe2ad",
   "metadata": {},
   "source": [
    "# Configurasyon ve Spark Bağlantısı "
   ]
  },
  {
   "cell_type": "code",
   "execution_count": null,
   "id": "d8a18257-3e8a-4001-9caf-67fe5b7e152d",
   "metadata": {},
   "outputs": [],
   "source": [
    "from pyspark import SparkContext\n",
    "sc = SparkContext(master = \"local\")\n",
    "sc"
   ]
  },
  {
   "cell_type": "code",
   "execution_count": null,
   "id": "15be332e-4c6c-4d8d-a144-125ea874d318",
   "metadata": {},
   "outputs": [],
   "source": [
    "sc.version"
   ]
  },
  {
   "cell_type": "code",
   "execution_count": null,
   "id": "a3bfc95c-51e1-4791-b2d3-ed08f2577df1",
   "metadata": {},
   "outputs": [],
   "source": [
    "sc.sparkUser()"
   ]
  },
  {
   "cell_type": "code",
   "execution_count": null,
   "id": "20eec0ba-e227-471b-bb22-519d76986905",
   "metadata": {},
   "outputs": [],
   "source": [
    "sc.appName"
   ]
  },
  {
   "cell_type": "code",
   "execution_count": null,
   "id": "07bed1f7-3eab-43bd-8ee3-887da8f07cc1",
   "metadata": {},
   "outputs": [],
   "source": [
    "dir(sc)"
   ]
  },
  {
   "cell_type": "code",
   "execution_count": null,
   "id": "7f7d5f83-55db-464e-b0df-be12f036e5aa",
   "metadata": {},
   "outputs": [],
   "source": [
    "sc.stop()"
   ]
  },
  {
   "cell_type": "code",
   "execution_count": null,
   "id": "0f199c11-b874-45a1-8af9-76f4f961142f",
   "metadata": {},
   "outputs": [],
   "source": [
    "import pyspark\n",
    "from pyspark.sql import SparkSession\n",
    "from pyspark.conf import SparkConf\n",
    "from pyspark import SparkContext\n",
    "\n",
    "spark = SparkSession.builder \\\n",
    "    .master(\"local\") \\\n",
    "    .appName(\"pyspark_uygulama\") \\\n",
    "    .config(\"spark.executer.memory\", \"16gb\") \\\n",
    "    .getOrCreate()\n",
    "\n",
    "\n",
    "\n",
    "sc = spark.sparkContext\n",
    "sc"
   ]
  },
  {
   "cell_type": "code",
   "execution_count": null,
   "id": "bde237a2-1a05-4e7c-871b-2a4dc058cf9a",
   "metadata": {},
   "outputs": [],
   "source": []
  },
  {
   "cell_type": "code",
   "execution_count": null,
   "id": "cbf9555d-a4f9-4bbc-958c-2025b593998d",
   "metadata": {},
   "outputs": [],
   "source": []
  },
  {
   "cell_type": "code",
   "execution_count": null,
   "id": "256709da-9614-40a5-ad6d-6debf0c789ed",
   "metadata": {},
   "outputs": [],
   "source": []
  }
 ],
 "metadata": {
  "kernelspec": {
   "display_name": "Python 3 (ipykernel)",
   "language": "python",
   "name": "python3"
  },
  "language_info": {
   "codemirror_mode": {
    "name": "ipython",
    "version": 3
   },
   "file_extension": ".py",
   "mimetype": "text/x-python",
   "name": "python",
   "nbconvert_exporter": "python",
   "pygments_lexer": "ipython3",
   "version": "3.9.12"
  }
 },
 "nbformat": 4,
 "nbformat_minor": 5
}
